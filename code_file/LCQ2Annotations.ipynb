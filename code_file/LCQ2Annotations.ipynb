{
 "cells": [
  {
   "cell_type": "code",
   "execution_count": 1,
   "metadata": {},
   "outputs": [],
   "source": [
    "import pandas as pd\n",
    "import numpy as np\n",
    "import re\n",
    "import random\n",
    "import warnings; warnings.simplefilter('ignore')\n",
    "import operator\n",
    "import json\n",
    "from SPARQLWrapper import SPARQLWrapper, JSON\n",
    "from sklearn.model_selection import train_test_split\n",
    "import time"
   ]
  },
  {
   "cell_type": "code",
   "execution_count": 3,
   "metadata": {},
   "outputs": [],
   "source": [
    "wikidata_endpoint = \"https://query.wikidata.org/sparql\"\n",
    "sparql = SPARQLWrapper(wikidata_endpoint, agent='sparqlwrapper 1.8.6.dev0 (rdflib.github.io/sparqlwrapper)')"
   ]
  },
  {
   "cell_type": "code",
   "execution_count": 4,
   "metadata": {},
   "outputs": [],
   "source": [
    "l2_train_df = pd.read_json('../data_files/lcq_with_entities/lcquad2.1_with_mentions_train_18April.json')\n",
    "l2_test_df = pd.read_json('../data_files/lcq_with_entities/lcquad2.1_with_mentions_test_18April.json')"
   ]
  },
  {
   "cell_type": "code",
   "execution_count": 5,
   "metadata": {},
   "outputs": [
    {
     "data": {
      "text/html": [
       "<div>\n",
       "<style scoped>\n",
       "    .dataframe tbody tr th:only-of-type {\n",
       "        vertical-align: middle;\n",
       "    }\n",
       "\n",
       "    .dataframe tbody tr th {\n",
       "        vertical-align: top;\n",
       "    }\n",
       "\n",
       "    .dataframe thead th {\n",
       "        text-align: right;\n",
       "    }\n",
       "</style>\n",
       "<table border=\"1\" class=\"dataframe\">\n",
       "  <thead>\n",
       "    <tr style=\"text-align: right;\">\n",
       "      <th></th>\n",
       "      <th>uid</th>\n",
       "      <th>NNQT_question</th>\n",
       "      <th>question</th>\n",
       "      <th>sparql_wikidata</th>\n",
       "      <th>sparql_dbpedia18</th>\n",
       "      <th>template</th>\n",
       "      <th>template_id</th>\n",
       "      <th>paraphrased_question</th>\n",
       "      <th>type</th>\n",
       "      <th>answer</th>\n",
       "      <th>entity_mentions_question</th>\n",
       "      <th>entity_mentions_question_paraphrased</th>\n",
       "      <th>entites</th>\n",
       "    </tr>\n",
       "  </thead>\n",
       "  <tbody>\n",
       "    <tr>\n",
       "      <th>0</th>\n",
       "      <td>20258</td>\n",
       "      <td>What is the {country} for {head of state} of {...</td>\n",
       "      <td>Who is the  country for head of state of Mahmo...</td>\n",
       "      <td>select distinct ?sbj where { ?sbj wdt:P35 wd:...</td>\n",
       "      <td>select distinct ?subj where { ?statement &lt;http...</td>\n",
       "      <td>&lt;?S P O ; ?S InstanceOf Type&gt;</td>\n",
       "      <td>10</td>\n",
       "      <td>What country is Mahmoud Abbas the head of stat...</td>\n",
       "      <td>test</td>\n",
       "      <td></td>\n",
       "      <td>[{'label': 'country', 'span': '{country}', 'sc...</td>\n",
       "      <td>[{'label': 'country', 'span': 'country', 'scor...</td>\n",
       "      <td>[mahmoud abbas]</td>\n",
       "    </tr>\n",
       "    <tr>\n",
       "      <th>1</th>\n",
       "      <td>7141</td>\n",
       "      <td>What is {population} of {Somalia} that is {poi...</td>\n",
       "      <td>What was the population of Somalia in 2009-0-0?</td>\n",
       "      <td>SELECT ?obj WHERE { wd:Q1045 p:P1082 ?s . ?s p...</td>\n",
       "      <td>select distinct ?obj  where {\\n?statement &lt;htt...</td>\n",
       "      <td>(E pred F) prop ?value</td>\n",
       "      <td>7</td>\n",
       "      <td>As of 2009, how many people lived in Somalia?</td>\n",
       "      <td>test</td>\n",
       "      <td></td>\n",
       "      <td>[{'label': 'population', 'span': 'population',...</td>\n",
       "      <td>[{'label': 'population', 'span': 'people lived...</td>\n",
       "      <td>[somalia]</td>\n",
       "    </tr>\n",
       "  </tbody>\n",
       "</table>\n",
       "</div>"
      ],
      "text/plain": [
       "     uid                                      NNQT_question  \\\n",
       "0  20258  What is the {country} for {head of state} of {...   \n",
       "1   7141  What is {population} of {Somalia} that is {poi...   \n",
       "\n",
       "                                            question  \\\n",
       "0  Who is the  country for head of state of Mahmo...   \n",
       "1    What was the population of Somalia in 2009-0-0?   \n",
       "\n",
       "                                     sparql_wikidata  \\\n",
       "0   select distinct ?sbj where { ?sbj wdt:P35 wd:...   \n",
       "1  SELECT ?obj WHERE { wd:Q1045 p:P1082 ?s . ?s p...   \n",
       "\n",
       "                                    sparql_dbpedia18  \\\n",
       "0  select distinct ?subj where { ?statement <http...   \n",
       "1  select distinct ?obj  where {\\n?statement <htt...   \n",
       "\n",
       "                        template  template_id  \\\n",
       "0  <?S P O ; ?S InstanceOf Type>           10   \n",
       "1         (E pred F) prop ?value            7   \n",
       "\n",
       "                                paraphrased_question  type answer  \\\n",
       "0  What country is Mahmoud Abbas the head of stat...  test          \n",
       "1      As of 2009, how many people lived in Somalia?  test          \n",
       "\n",
       "                            entity_mentions_question  \\\n",
       "0  [{'label': 'country', 'span': '{country}', 'sc...   \n",
       "1  [{'label': 'population', 'span': 'population',...   \n",
       "\n",
       "                entity_mentions_question_paraphrased          entites  \n",
       "0  [{'label': 'country', 'span': 'country', 'scor...  [mahmoud abbas]  \n",
       "1  [{'label': 'population', 'span': 'people lived...        [somalia]  "
      ]
     },
     "execution_count": 5,
     "metadata": {},
     "output_type": "execute_result"
    }
   ],
   "source": [
    "l2_test_df.head(2)"
   ]
  },
  {
   "cell_type": "code",
   "execution_count": 7,
   "metadata": {},
   "outputs": [],
   "source": [
    "l2_train_sel_df = l2_train_df[['uid','question','sparql_wikidata','entites']]\n",
    "l2_test_sel_df = l2_test_df[['uid','question','sparql_wikidata','entites']]"
   ]
  },
  {
   "cell_type": "code",
   "execution_count": 8,
   "metadata": {},
   "outputs": [
    {
     "data": {
      "text/html": [
       "<div>\n",
       "<style scoped>\n",
       "    .dataframe tbody tr th:only-of-type {\n",
       "        vertical-align: middle;\n",
       "    }\n",
       "\n",
       "    .dataframe tbody tr th {\n",
       "        vertical-align: top;\n",
       "    }\n",
       "\n",
       "    .dataframe thead th {\n",
       "        text-align: right;\n",
       "    }\n",
       "</style>\n",
       "<table border=\"1\" class=\"dataframe\">\n",
       "  <thead>\n",
       "    <tr style=\"text-align: right;\">\n",
       "      <th></th>\n",
       "      <th>uid</th>\n",
       "      <th>question</th>\n",
       "      <th>sparql_wikidata</th>\n",
       "      <th>entites</th>\n",
       "    </tr>\n",
       "  </thead>\n",
       "  <tbody>\n",
       "    <tr>\n",
       "      <th>0</th>\n",
       "      <td>20258</td>\n",
       "      <td>Who is the  country for head of state of Mahmo...</td>\n",
       "      <td>select distinct ?sbj where { ?sbj wdt:P35 wd:...</td>\n",
       "      <td>[mahmoud abbas]</td>\n",
       "    </tr>\n",
       "    <tr>\n",
       "      <th>1</th>\n",
       "      <td>7141</td>\n",
       "      <td>What was the population of Somalia in 2009-0-0?</td>\n",
       "      <td>SELECT ?obj WHERE { wd:Q1045 p:P1082 ?s . ?s p...</td>\n",
       "      <td>[somalia]</td>\n",
       "    </tr>\n",
       "  </tbody>\n",
       "</table>\n",
       "</div>"
      ],
      "text/plain": [
       "     uid                                           question  \\\n",
       "0  20258  Who is the  country for head of state of Mahmo...   \n",
       "1   7141    What was the population of Somalia in 2009-0-0?   \n",
       "\n",
       "                                     sparql_wikidata          entites  \n",
       "0   select distinct ?sbj where { ?sbj wdt:P35 wd:...  [mahmoud abbas]  \n",
       "1  SELECT ?obj WHERE { wd:Q1045 p:P1082 ?s . ?s p...        [somalia]  "
      ]
     },
     "execution_count": 8,
     "metadata": {},
     "output_type": "execute_result"
    }
   ],
   "source": [
    "l2_test_sel_df.head(2)"
   ]
  },
  {
   "cell_type": "code",
   "execution_count": 9,
   "metadata": {},
   "outputs": [],
   "source": [
    "def get_pred(qry):\n",
    "    qry_arr = qry.split(' ')\n",
    "    tmp_lst = list(qry_arr)\n",
    "    lst_words = [x.replace('.','').replace('}','').replace('{}','') for x in tmp_lst]\n",
    "    lst_pred = [x.split(':')[-1] for x in lst_words if 'wdt:' in x or 'p:' in x or 'ps:' in x or 'pq' in x]\n",
    "    new_lst = []\n",
    "    for item in lst_pred:\n",
    "        if not item in new_lst:\n",
    "           new_lst.append(item)\n",
    "    return new_lst"
   ]
  },
  {
   "cell_type": "code",
   "execution_count": 10,
   "metadata": {},
   "outputs": [],
   "source": [
    "#adding a column which has list of predicates being used in the dataset\n",
    "l2_train_sel_df['pred'] = l2_train_sel_df['sparql_wikidata'].apply(lambda x: get_pred(x))\n",
    "l2_test_sel_df['pred'] = l2_test_sel_df['sparql_wikidata'].apply(lambda x: get_pred(x))"
   ]
  },
  {
   "cell_type": "code",
   "execution_count": 11,
   "metadata": {},
   "outputs": [
    {
     "data": {
      "text/html": [
       "<div>\n",
       "<style scoped>\n",
       "    .dataframe tbody tr th:only-of-type {\n",
       "        vertical-align: middle;\n",
       "    }\n",
       "\n",
       "    .dataframe tbody tr th {\n",
       "        vertical-align: top;\n",
       "    }\n",
       "\n",
       "    .dataframe thead th {\n",
       "        text-align: right;\n",
       "    }\n",
       "</style>\n",
       "<table border=\"1\" class=\"dataframe\">\n",
       "  <thead>\n",
       "    <tr style=\"text-align: right;\">\n",
       "      <th></th>\n",
       "      <th>uid</th>\n",
       "      <th>question</th>\n",
       "      <th>sparql_wikidata</th>\n",
       "      <th>entites</th>\n",
       "      <th>pred</th>\n",
       "    </tr>\n",
       "  </thead>\n",
       "  <tbody>\n",
       "    <tr>\n",
       "      <th>0</th>\n",
       "      <td>19719</td>\n",
       "      <td>What periodical literature does Delta Air Line...</td>\n",
       "      <td>select distinct ?obj where { wd:Q188920 wdt:P...</td>\n",
       "      <td>[periodical literature, delta air lines]</td>\n",
       "      <td>[P2813, P31]</td>\n",
       "    </tr>\n",
       "    <tr>\n",
       "      <th>1</th>\n",
       "      <td>15554</td>\n",
       "      <td>Who is the child of Ranavalona I's husband?</td>\n",
       "      <td>SELECT ?answer WHERE { wd:Q169794 wdt:P26 ?X ....</td>\n",
       "      <td>[ranavalona i]</td>\n",
       "      <td>[P26, P22]</td>\n",
       "    </tr>\n",
       "  </tbody>\n",
       "</table>\n",
       "</div>"
      ],
      "text/plain": [
       "     uid                                           question  \\\n",
       "0  19719  What periodical literature does Delta Air Line...   \n",
       "1  15554        Who is the child of Ranavalona I's husband?   \n",
       "\n",
       "                                     sparql_wikidata  \\\n",
       "0   select distinct ?obj where { wd:Q188920 wdt:P...   \n",
       "1  SELECT ?answer WHERE { wd:Q169794 wdt:P26 ?X ....   \n",
       "\n",
       "                                    entites          pred  \n",
       "0  [periodical literature, delta air lines]  [P2813, P31]  \n",
       "1                            [ranavalona i]    [P26, P22]  "
      ]
     },
     "execution_count": 11,
     "metadata": {},
     "output_type": "execute_result"
    }
   ],
   "source": [
    "l2_train_sel_df.head(2)"
   ]
  },
  {
   "cell_type": "code",
   "execution_count": 10,
   "metadata": {},
   "outputs": [],
   "source": [
    "qry1 =\"\"\"SELECT ?predLabel \n",
    "WHERE\n",
    "{\n",
    "  ?pred wikibase:directClaim wdt:\"\"\"\n",
    "\n",
    "qry2 =\"\"\"  .\n",
    "  SERVICE wikibase:label { bd:serviceParam wikibase:language \"en\". } \n",
    "}\n",
    "LIMIT 1\"\"\""
   ]
  },
  {
   "cell_type": "code",
   "execution_count": 11,
   "metadata": {},
   "outputs": [],
   "source": [
    "#function to get relation labels \n",
    "def fetch_rel(qry1, qry2, lst_pred_ids, st_predLabels):\n",
    "    lst_pred_labels_new = []\n",
    "    if len(lst_pred_ids) > 0:\n",
    "       for item in lst_pred_ids:\n",
    "           qry = qry1 + item + qry2\n",
    "           try:\n",
    "             sparql.setQuery(qry)\n",
    "             sparql.setReturnFormat(JSON)\n",
    "             results = sparql.query().convert() \n",
    "             for item in results['results']['bindings']: \n",
    "                 if len(item['predLabel']['value'].lower().strip()) > 0:\n",
    "                    st_predLabels = st_predLabels + str(item['predLabel']['value'].lower().strip()) + '; '\n",
    "                 else:\n",
    "                    st_predLabels = st_predLabels + ' '\n",
    "           except:\n",
    "             st_predLabels = ''\n",
    "             pass\n",
    "    else:\n",
    "       st_predLabels = ''\n",
    "    if st_predLabels != '':\n",
    "       st_predLabels = st_predLabels[:-2]\n",
    "       st_arr = st_predLabels.split(';')\n",
    "       for split_lbl in st_arr:\n",
    "           if len(split_lbl)>0: \n",
    "              lst_pred_labels_new.append(split_lbl.strip())\n",
    "       return lst_pred_labels_new\n",
    "    else:\n",
    "       return lst_pred_labels_new"
   ]
  },
  {
   "cell_type": "code",
   "execution_count": 12,
   "metadata": {},
   "outputs": [],
   "source": [
    "l2_test_sel_df['predLabels'] = l2_test_sel_df['pred'].apply(lambda x: fetch_rel(qry1, qry2, x, ''))"
   ]
  },
  {
   "cell_type": "code",
   "execution_count": 13,
   "metadata": {},
   "outputs": [],
   "source": [
    "l2_test_sel_df.to_json('../data_files/lcq2_test_with_ent_rel.json', orient='records', indent=len(l2_test_sel_df.columns))"
   ]
  },
  {
   "cell_type": "code",
   "execution_count": 14,
   "metadata": {},
   "outputs": [],
   "source": [
    "l2_train_sel_df['predLabels'] = l2_train_sel_df['pred'].apply(lambda x: fetch_rel(qry1, qry2, x, ''))"
   ]
  },
  {
   "cell_type": "code",
   "execution_count": 15,
   "metadata": {},
   "outputs": [],
   "source": [
    "l2_train_sel_df.to_json('../data_files/lcq2_train_with_ent_rel.json', orient='records', indent=len(l2_train_sel_df.columns))"
   ]
  },
  {
   "cell_type": "markdown",
   "metadata": {},
   "source": [
    "### Annotations for Rony 25th Nov 2021"
   ]
  },
  {
   "cell_type": "code",
   "execution_count": 12,
   "metadata": {},
   "outputs": [],
   "source": [
    "l2_rony_train_df = pd.read_json('../data_files/lcq2_MT_annot_train.json')\n",
    "l2_rony_test_df = pd.read_json('../data_files/lcq2_MT_annot_test.json')"
   ]
  },
  {
   "cell_type": "code",
   "execution_count": 14,
   "metadata": {},
   "outputs": [
    {
     "data": {
      "text/html": [
       "<div>\n",
       "<style scoped>\n",
       "    .dataframe tbody tr th:only-of-type {\n",
       "        vertical-align: middle;\n",
       "    }\n",
       "\n",
       "    .dataframe tbody tr th {\n",
       "        vertical-align: top;\n",
       "    }\n",
       "\n",
       "    .dataframe thead th {\n",
       "        text-align: right;\n",
       "    }\n",
       "</style>\n",
       "<table border=\"1\" class=\"dataframe\">\n",
       "  <thead>\n",
       "    <tr style=\"text-align: right;\">\n",
       "      <th></th>\n",
       "      <th>uid</th>\n",
       "      <th>question</th>\n",
       "      <th>sparql_wikidata</th>\n",
       "      <th>template_id</th>\n",
       "      <th>question_pos</th>\n",
       "      <th>ent_masked_ques</th>\n",
       "      <th>question_with_pos</th>\n",
       "      <th>triples_template</th>\n",
       "      <th>entities</th>\n",
       "      <th>predLabels</th>\n",
       "      <th>annotated_question</th>\n",
       "    </tr>\n",
       "  </thead>\n",
       "  <tbody>\n",
       "    <tr>\n",
       "      <th>0</th>\n",
       "      <td>20258</td>\n",
       "      <td>Who is the  country for head of state of Mahmo...</td>\n",
       "      <td>select distinct ?sbj where { ?sbj wdt:P35 wd:...</td>\n",
       "      <td>10</td>\n",
       "      <td>WP VBZ DT NN IN NN IN NN IN NNP NNP</td>\n",
       "      <td>who is the  country for head of state of [Enti...</td>\n",
       "      <td>Who/WP is/VBZ the/DT country/NN for/IN head/NN...</td>\n",
       "      <td>subject &lt; head of state &gt; [ mahmoud abbas ] . ...</td>\n",
       "      <td>[mahmoud abbas]</td>\n",
       "      <td>[head of state, instance of]</td>\n",
       "      <td>[mahmoud abbas] &lt;head of state&gt; &lt;instance of&gt; ...</td>\n",
       "    </tr>\n",
       "    <tr>\n",
       "      <th>1</th>\n",
       "      <td>7141</td>\n",
       "      <td>What was the population of Somalia in 2009-0-0?</td>\n",
       "      <td>SELECT ?obj WHERE { wd:Q1045 p:P1082 ?s . ?s p...</td>\n",
       "      <td>7</td>\n",
       "      <td>WP VBD DT NN IN NNP IN CD</td>\n",
       "      <td>what was the population of [Entity1] in 2009-0-0?</td>\n",
       "      <td>What/WP was/VBD the/DT population/NN of/IN Som...</td>\n",
       "      <td>[ somalia ] &lt; population &gt; ?s . ?s &lt; populatio...</td>\n",
       "      <td>[somalia]</td>\n",
       "      <td>[population, point in time]</td>\n",
       "      <td>[somalia] &lt;population&gt; &lt;point in time&gt; What wa...</td>\n",
       "    </tr>\n",
       "  </tbody>\n",
       "</table>\n",
       "</div>"
      ],
      "text/plain": [
       "     uid                                           question  \\\n",
       "0  20258  Who is the  country for head of state of Mahmo...   \n",
       "1   7141    What was the population of Somalia in 2009-0-0?   \n",
       "\n",
       "                                     sparql_wikidata  template_id  \\\n",
       "0   select distinct ?sbj where { ?sbj wdt:P35 wd:...           10   \n",
       "1  SELECT ?obj WHERE { wd:Q1045 p:P1082 ?s . ?s p...            7   \n",
       "\n",
       "                          question_pos  \\\n",
       "0  WP VBZ DT NN IN NN IN NN IN NNP NNP   \n",
       "1            WP VBD DT NN IN NNP IN CD   \n",
       "\n",
       "                                     ent_masked_ques  \\\n",
       "0  who is the  country for head of state of [Enti...   \n",
       "1  what was the population of [Entity1] in 2009-0-0?   \n",
       "\n",
       "                                   question_with_pos  \\\n",
       "0  Who/WP is/VBZ the/DT country/NN for/IN head/NN...   \n",
       "1  What/WP was/VBD the/DT population/NN of/IN Som...   \n",
       "\n",
       "                                    triples_template         entities  \\\n",
       "0  subject < head of state > [ mahmoud abbas ] . ...  [mahmoud abbas]   \n",
       "1  [ somalia ] < population > ?s . ?s < populatio...        [somalia]   \n",
       "\n",
       "                     predLabels  \\\n",
       "0  [head of state, instance of]   \n",
       "1   [population, point in time]   \n",
       "\n",
       "                                  annotated_question  \n",
       "0  [mahmoud abbas] <head of state> <instance of> ...  \n",
       "1  [somalia] <population> <point in time> What wa...  "
      ]
     },
     "execution_count": 14,
     "metadata": {},
     "output_type": "execute_result"
    }
   ],
   "source": [
    "l2_rony_test_df.head(2)"
   ]
  },
  {
   "cell_type": "code",
   "execution_count": 15,
   "metadata": {},
   "outputs": [
    {
     "data": {
      "text/html": [
       "<div>\n",
       "<style scoped>\n",
       "    .dataframe tbody tr th:only-of-type {\n",
       "        vertical-align: middle;\n",
       "    }\n",
       "\n",
       "    .dataframe tbody tr th {\n",
       "        vertical-align: top;\n",
       "    }\n",
       "\n",
       "    .dataframe thead th {\n",
       "        text-align: right;\n",
       "    }\n",
       "</style>\n",
       "<table border=\"1\" class=\"dataframe\">\n",
       "  <thead>\n",
       "    <tr style=\"text-align: right;\">\n",
       "      <th></th>\n",
       "      <th>uid</th>\n",
       "      <th>question</th>\n",
       "      <th>sparql_wikidata</th>\n",
       "      <th>entites</th>\n",
       "      <th>pred</th>\n",
       "    </tr>\n",
       "  </thead>\n",
       "  <tbody>\n",
       "    <tr>\n",
       "      <th>0</th>\n",
       "      <td>19719</td>\n",
       "      <td>What periodical literature does Delta Air Line...</td>\n",
       "      <td>select distinct ?obj where { wd:Q188920 wdt:P...</td>\n",
       "      <td>[periodical literature, delta air lines]</td>\n",
       "      <td>[P2813, P31]</td>\n",
       "    </tr>\n",
       "    <tr>\n",
       "      <th>1</th>\n",
       "      <td>15554</td>\n",
       "      <td>Who is the child of Ranavalona I's husband?</td>\n",
       "      <td>SELECT ?answer WHERE { wd:Q169794 wdt:P26 ?X ....</td>\n",
       "      <td>[ranavalona i]</td>\n",
       "      <td>[P26, P22]</td>\n",
       "    </tr>\n",
       "  </tbody>\n",
       "</table>\n",
       "</div>"
      ],
      "text/plain": [
       "     uid                                           question  \\\n",
       "0  19719  What periodical literature does Delta Air Line...   \n",
       "1  15554        Who is the child of Ranavalona I's husband?   \n",
       "\n",
       "                                     sparql_wikidata  \\\n",
       "0   select distinct ?obj where { wd:Q188920 wdt:P...   \n",
       "1  SELECT ?answer WHERE { wd:Q169794 wdt:P26 ?X ....   \n",
       "\n",
       "                                    entites          pred  \n",
       "0  [periodical literature, delta air lines]  [P2813, P31]  \n",
       "1                            [ranavalona i]    [P26, P22]  "
      ]
     },
     "execution_count": 15,
     "metadata": {},
     "output_type": "execute_result"
    }
   ],
   "source": [
    "l2_train_sel_df.head(2)"
   ]
  },
  {
   "cell_type": "code",
   "execution_count": 26,
   "metadata": {},
   "outputs": [],
   "source": [
    "def concat_predLabels_mit_pred(l2_rony_df,l2_sel_df):\n",
    "    lst_new_predLabels = []\n",
    "    for idx,row in l2_rony_df.iterrows():\n",
    "        uid = row['uid']\n",
    "        temp_l2_sel_df = l2_sel_df.loc[l2_sel_df['uid']==uid]\n",
    "        lst = []\n",
    "        for l,c in zip(row['predLabels'],temp_l2_sel_df['pred'].values[0]):\n",
    "            st = str(l) + ': ' + c\n",
    "            lst.append(st)\n",
    "        lst_new_predLabels.append(lst)\n",
    "    l2_rony_df['newPredLabels'] = lst_new_predLabels   \n",
    "    return l2_rony_df"
   ]
  },
  {
   "cell_type": "code",
   "execution_count": 31,
   "metadata": {},
   "outputs": [
    {
     "data": {
      "text/html": [
       "<div>\n",
       "<style scoped>\n",
       "    .dataframe tbody tr th:only-of-type {\n",
       "        vertical-align: middle;\n",
       "    }\n",
       "\n",
       "    .dataframe tbody tr th {\n",
       "        vertical-align: top;\n",
       "    }\n",
       "\n",
       "    .dataframe thead th {\n",
       "        text-align: right;\n",
       "    }\n",
       "</style>\n",
       "<table border=\"1\" class=\"dataframe\">\n",
       "  <thead>\n",
       "    <tr style=\"text-align: right;\">\n",
       "      <th></th>\n",
       "      <th>uid</th>\n",
       "      <th>question</th>\n",
       "      <th>sparql_wikidata</th>\n",
       "      <th>template_id</th>\n",
       "      <th>question_pos</th>\n",
       "      <th>ent_masked_ques</th>\n",
       "      <th>question_with_pos</th>\n",
       "      <th>triples_template</th>\n",
       "      <th>entities</th>\n",
       "      <th>predLabels</th>\n",
       "      <th>annotated_question</th>\n",
       "      <th>newPredLabels</th>\n",
       "    </tr>\n",
       "  </thead>\n",
       "  <tbody>\n",
       "    <tr>\n",
       "      <th>5968</th>\n",
       "      <td>29372</td>\n",
       "      <td>What Theoi Project ID does Manticore has?</td>\n",
       "      <td>select distinct ?answer where { wd:Q223795 wdt...</td>\n",
       "      <td>22</td>\n",
       "      <td>WP NNP NNP NNP VBZ NNP VBZ</td>\n",
       "      <td>what theoi project id does [Entity1] has?</td>\n",
       "      <td>What/WP Theoi/NNP Project/NNP ID/NNP does/VBZ ...</td>\n",
       "      <td>[ manticore ] &lt; theoi project id &gt; answer</td>\n",
       "      <td>[]</td>\n",
       "      <td>[theoi project id]</td>\n",
       "      <td>&lt;theoi project id&gt; What Theoi Project ID does ...</td>\n",
       "      <td>[theoi project id: P3545]</td>\n",
       "    </tr>\n",
       "  </tbody>\n",
       "</table>\n",
       "</div>"
      ],
      "text/plain": [
       "        uid                                   question  \\\n",
       "5968  29372  What Theoi Project ID does Manticore has?   \n",
       "\n",
       "                                        sparql_wikidata  template_id  \\\n",
       "5968  select distinct ?answer where { wd:Q223795 wdt...           22   \n",
       "\n",
       "                    question_pos                            ent_masked_ques  \\\n",
       "5968  WP NNP NNP NNP VBZ NNP VBZ  what theoi project id does [Entity1] has?   \n",
       "\n",
       "                                      question_with_pos  \\\n",
       "5968  What/WP Theoi/NNP Project/NNP ID/NNP does/VBZ ...   \n",
       "\n",
       "                               triples_template entities          predLabels  \\\n",
       "5968  [ manticore ] < theoi project id > answer       []  [theoi project id]   \n",
       "\n",
       "                                     annotated_question  \\\n",
       "5968  <theoi project id> What Theoi Project ID does ...   \n",
       "\n",
       "                  newPredLabels  \n",
       "5968  [theoi project id: P3545]  "
      ]
     },
     "execution_count": 31,
     "metadata": {},
     "output_type": "execute_result"
    }
   ],
   "source": [
    "new_l2_rony_test_df = concat_predLabels_mit_pred(l2_rony_test_df,l2_test_sel_df) \n",
    "new_l2_rony_test_df.tail(1)"
   ]
  },
  {
   "cell_type": "code",
   "execution_count": 32,
   "metadata": {},
   "outputs": [
    {
     "data": {
      "text/html": [
       "<div>\n",
       "<style scoped>\n",
       "    .dataframe tbody tr th:only-of-type {\n",
       "        vertical-align: middle;\n",
       "    }\n",
       "\n",
       "    .dataframe tbody tr th {\n",
       "        vertical-align: top;\n",
       "    }\n",
       "\n",
       "    .dataframe thead th {\n",
       "        text-align: right;\n",
       "    }\n",
       "</style>\n",
       "<table border=\"1\" class=\"dataframe\">\n",
       "  <thead>\n",
       "    <tr style=\"text-align: right;\">\n",
       "      <th></th>\n",
       "      <th>uid</th>\n",
       "      <th>question</th>\n",
       "      <th>sparql_wikidata</th>\n",
       "      <th>template_id</th>\n",
       "      <th>question_pos</th>\n",
       "      <th>ent_masked_ques</th>\n",
       "      <th>question_with_pos</th>\n",
       "      <th>triples_template</th>\n",
       "      <th>entities</th>\n",
       "      <th>predLabels</th>\n",
       "      <th>annotated_question</th>\n",
       "      <th>newPredLabels</th>\n",
       "    </tr>\n",
       "  </thead>\n",
       "  <tbody>\n",
       "    <tr>\n",
       "      <th>23885</th>\n",
       "      <td>22794</td>\n",
       "      <td>For which film did Anil Kapoor win a Screen Ac...</td>\n",
       "      <td>select distinct ?sbj where { ?sbj wdt:P1346 w...</td>\n",
       "      <td>10</td>\n",
       "      <td>IN WDT NN VBD NNP NNP VBP DT JJ NNP NNP NNP</td>\n",
       "      <td>for which film did [Entity1] win a screen acto...</td>\n",
       "      <td>For/IN which/WDT film/NN did/VBD Anil/NNP Kapo...</td>\n",
       "      <td>subject &lt; winner &gt; [ anil kapoor ] . subject &lt;...</td>\n",
       "      <td>[anil kapoor]</td>\n",
       "      <td>[winner, instance of]</td>\n",
       "      <td>[anil kapoor] &lt;winner&gt; &lt;instance of&gt; For which...</td>\n",
       "      <td>[winner: P1346, instance of: P31]</td>\n",
       "    </tr>\n",
       "  </tbody>\n",
       "</table>\n",
       "</div>"
      ],
      "text/plain": [
       "         uid                                           question  \\\n",
       "23885  22794  For which film did Anil Kapoor win a Screen Ac...   \n",
       "\n",
       "                                         sparql_wikidata  template_id  \\\n",
       "23885   select distinct ?sbj where { ?sbj wdt:P1346 w...           10   \n",
       "\n",
       "                                      question_pos  \\\n",
       "23885  IN WDT NN VBD NNP NNP VBP DT JJ NNP NNP NNP   \n",
       "\n",
       "                                         ent_masked_ques  \\\n",
       "23885  for which film did [Entity1] win a screen acto...   \n",
       "\n",
       "                                       question_with_pos  \\\n",
       "23885  For/IN which/WDT film/NN did/VBD Anil/NNP Kapo...   \n",
       "\n",
       "                                        triples_template       entities  \\\n",
       "23885  subject < winner > [ anil kapoor ] . subject <...  [anil kapoor]   \n",
       "\n",
       "                  predLabels  \\\n",
       "23885  [winner, instance of]   \n",
       "\n",
       "                                      annotated_question  \\\n",
       "23885  [anil kapoor] <winner> <instance of> For which...   \n",
       "\n",
       "                           newPredLabels  \n",
       "23885  [winner: P1346, instance of: P31]  "
      ]
     },
     "execution_count": 32,
     "metadata": {},
     "output_type": "execute_result"
    }
   ],
   "source": [
    "new_l2_rony_train_df = concat_predLabels_mit_pred(l2_rony_train_df,l2_train_sel_df) \n",
    "new_l2_rony_train_df.tail(1)"
   ]
  },
  {
   "cell_type": "code",
   "execution_count": 33,
   "metadata": {},
   "outputs": [],
   "source": [
    "new_l2_rony_train_df.to_json('../data_files/lcq2_train_annot_rony_25thNov.json', orient='records', indent=len(new_l2_rony_train_df.columns))\n",
    "new_l2_rony_test_df.to_json('../data_files/lcq2_test_annot_rony_25thNov.json', orient='records', indent=len(new_l2_rony_test_df.columns))"
   ]
  },
  {
   "cell_type": "markdown",
   "metadata": {},
   "source": [
    "#### Now fetch entities and their respective labels"
   ]
  },
  {
   "cell_type": "code",
   "execution_count": 34,
   "metadata": {},
   "outputs": [],
   "source": [
    "def get_ent(qry):\n",
    "    qry_arr = qry.split(' ')\n",
    "    tmp_lst = list(qry_arr)\n",
    "    lst_words = [x.replace('.','').replace('}','').replace('{}','') for x in tmp_lst]\n",
    "    lst_ent = [x.split(':')[-1] for x in lst_words if 'wd:' in x]\n",
    "    return lst_ent"
   ]
  },
  {
   "cell_type": "code",
   "execution_count": 38,
   "metadata": {},
   "outputs": [],
   "source": [
    "new_l2_rony_test_df['ent_id'] = new_l2_rony_test_df['sparql_wikidata'].apply(lambda x: get_ent(x))\n",
    "new_l2_rony_train_df['ent_id'] = new_l2_rony_train_df['sparql_wikidata'].apply(lambda x: get_ent(x))"
   ]
  },
  {
   "cell_type": "code",
   "execution_count": 39,
   "metadata": {},
   "outputs": [
    {
     "data": {
      "text/html": [
       "<div>\n",
       "<style scoped>\n",
       "    .dataframe tbody tr th:only-of-type {\n",
       "        vertical-align: middle;\n",
       "    }\n",
       "\n",
       "    .dataframe tbody tr th {\n",
       "        vertical-align: top;\n",
       "    }\n",
       "\n",
       "    .dataframe thead th {\n",
       "        text-align: right;\n",
       "    }\n",
       "</style>\n",
       "<table border=\"1\" class=\"dataframe\">\n",
       "  <thead>\n",
       "    <tr style=\"text-align: right;\">\n",
       "      <th></th>\n",
       "      <th>uid</th>\n",
       "      <th>question</th>\n",
       "      <th>sparql_wikidata</th>\n",
       "      <th>template_id</th>\n",
       "      <th>question_pos</th>\n",
       "      <th>ent_masked_ques</th>\n",
       "      <th>question_with_pos</th>\n",
       "      <th>triples_template</th>\n",
       "      <th>entities</th>\n",
       "      <th>predLabels</th>\n",
       "      <th>annotated_question</th>\n",
       "      <th>newPredLabels</th>\n",
       "      <th>ent_id</th>\n",
       "    </tr>\n",
       "  </thead>\n",
       "  <tbody>\n",
       "    <tr>\n",
       "      <th>0</th>\n",
       "      <td>19719</td>\n",
       "      <td>What periodical literature does Delta Air Line...</td>\n",
       "      <td>select distinct ?obj where { wd:Q188920 wdt:P...</td>\n",
       "      <td>5</td>\n",
       "      <td>WP JJ NN VBZ NNP NNP NNPS NN IN DT NN</td>\n",
       "      <td>what [Entity1] does [Entity2] use as a moutpiece?</td>\n",
       "      <td>What/WP periodical/JJ literature/NN does/VBZ D...</td>\n",
       "      <td>[ delta air lines ] &lt; house publication &gt; obje...</td>\n",
       "      <td>[periodical literature, delta air lines]</td>\n",
       "      <td>[house publication, instance of]</td>\n",
       "      <td>[periodical literature] [delta air lines] &lt;hou...</td>\n",
       "      <td>[house publication: P2813, instance of: P31]</td>\n",
       "      <td>[Q188920, Q1002697]</td>\n",
       "    </tr>\n",
       "    <tr>\n",
       "      <th>1</th>\n",
       "      <td>15554</td>\n",
       "      <td>Who is the child of Ranavalona I's husband?</td>\n",
       "      <td>SELECT ?answer WHERE { wd:Q169794 wdt:P26 ?X ....</td>\n",
       "      <td>18</td>\n",
       "      <td>WP VBZ DT NN IN NNP PRP POS NN</td>\n",
       "      <td>who is the child of [Entity1]'s husband?</td>\n",
       "      <td>Who/WP is/VBZ the/DT child/NN of/IN Ranavalona...</td>\n",
       "      <td>[ ranavalona i of madagascar ] &lt; spouse &gt; ?x ....</td>\n",
       "      <td>[ranavalona i]</td>\n",
       "      <td>[spouse, father]</td>\n",
       "      <td>[ranavalona i] &lt;spouse&gt; &lt;father&gt; Who is the ch...</td>\n",
       "      <td>[spouse: P26, father: P22]</td>\n",
       "      <td>[Q169794]</td>\n",
       "    </tr>\n",
       "  </tbody>\n",
       "</table>\n",
       "</div>"
      ],
      "text/plain": [
       "     uid                                           question  \\\n",
       "0  19719  What periodical literature does Delta Air Line...   \n",
       "1  15554        Who is the child of Ranavalona I's husband?   \n",
       "\n",
       "                                     sparql_wikidata  template_id  \\\n",
       "0   select distinct ?obj where { wd:Q188920 wdt:P...            5   \n",
       "1  SELECT ?answer WHERE { wd:Q169794 wdt:P26 ?X ....           18   \n",
       "\n",
       "                            question_pos  \\\n",
       "0  WP JJ NN VBZ NNP NNP NNPS NN IN DT NN   \n",
       "1         WP VBZ DT NN IN NNP PRP POS NN   \n",
       "\n",
       "                                     ent_masked_ques  \\\n",
       "0  what [Entity1] does [Entity2] use as a moutpiece?   \n",
       "1           who is the child of [Entity1]'s husband?   \n",
       "\n",
       "                                   question_with_pos  \\\n",
       "0  What/WP periodical/JJ literature/NN does/VBZ D...   \n",
       "1  Who/WP is/VBZ the/DT child/NN of/IN Ranavalona...   \n",
       "\n",
       "                                    triples_template  \\\n",
       "0  [ delta air lines ] < house publication > obje...   \n",
       "1  [ ranavalona i of madagascar ] < spouse > ?x ....   \n",
       "\n",
       "                                   entities                        predLabels  \\\n",
       "0  [periodical literature, delta air lines]  [house publication, instance of]   \n",
       "1                            [ranavalona i]                  [spouse, father]   \n",
       "\n",
       "                                  annotated_question  \\\n",
       "0  [periodical literature] [delta air lines] <hou...   \n",
       "1  [ranavalona i] <spouse> <father> Who is the ch...   \n",
       "\n",
       "                                  newPredLabels               ent_id  \n",
       "0  [house publication: P2813, instance of: P31]  [Q188920, Q1002697]  \n",
       "1                    [spouse: P26, father: P22]            [Q169794]  "
      ]
     },
     "execution_count": 39,
     "metadata": {},
     "output_type": "execute_result"
    }
   ],
   "source": [
    "new_l2_rony_train_df.head(2)"
   ]
  },
  {
   "cell_type": "code",
   "execution_count": 44,
   "metadata": {},
   "outputs": [],
   "source": [
    "qry_pt1 = 'select distinct ?label where { wd:'\n",
    "qry_pt2 = ' rdfs:label ?label . FILTER (langMatches( lang(?label), \"EN\" ) ) } LIMIT 1'"
   ]
  },
  {
   "cell_type": "code",
   "execution_count": 42,
   "metadata": {},
   "outputs": [],
   "source": [
    "#function to fetch answer from wikidata endpoint\n",
    "def fetch_label(qry):\n",
    "    res = ''\n",
    "    sparql.setQuery(qry)\n",
    "    sparql.setReturnFormat(JSON)\n",
    "    results = sparql.query().convert() \n",
    "    for item in results['results']['bindings']: \n",
    "        res = item['label']['value'].lower().strip()\n",
    "    return res"
   ]
  },
  {
   "cell_type": "code",
   "execution_count": 63,
   "metadata": {},
   "outputs": [],
   "source": [
    "def fetch_lst_entites_for_df(df,qry_pt1,qry_pt2):\n",
    "    excp_ctr = 0\n",
    "    try:\n",
    "       ent_list_for_df = []\n",
    "       for idx,row in df.iterrows():\n",
    "           #list of answer labels for this particular question block\n",
    "           temp_lst_labels = []\n",
    "           if len(row['ent_id']) > 0:\n",
    "              for item in row['ent_id']:\n",
    "                  qry =  qry_pt1 + item + qry_pt2\n",
    "                  curr_label = fetch_label(qry)    \n",
    "                  temp_lst_labels.append(curr_label+': '+item)        \n",
    "           ent_list_for_df.append(temp_lst_labels)\n",
    "    except:\n",
    "       print('exception for ent id ',item) \n",
    "       ent_list_for_df.append(temp_lst_labels)    \n",
    "    print('No of exceptions: ',excp_ctr)\n",
    "    return ent_list_for_df"
   ]
  },
  {
   "cell_type": "code",
   "execution_count": 64,
   "metadata": {},
   "outputs": [
    {
     "name": "stdout",
     "output_type": "stream",
     "text": [
      "No of exceptions:  0\n",
      "5969\n"
     ]
    },
    {
     "data": {
      "text/html": [
       "<div>\n",
       "<style scoped>\n",
       "    .dataframe tbody tr th:only-of-type {\n",
       "        vertical-align: middle;\n",
       "    }\n",
       "\n",
       "    .dataframe tbody tr th {\n",
       "        vertical-align: top;\n",
       "    }\n",
       "\n",
       "    .dataframe thead th {\n",
       "        text-align: right;\n",
       "    }\n",
       "</style>\n",
       "<table border=\"1\" class=\"dataframe\">\n",
       "  <thead>\n",
       "    <tr style=\"text-align: right;\">\n",
       "      <th></th>\n",
       "      <th>uid</th>\n",
       "      <th>question</th>\n",
       "      <th>sparql_wikidata</th>\n",
       "      <th>template_id</th>\n",
       "      <th>question_pos</th>\n",
       "      <th>ent_masked_ques</th>\n",
       "      <th>question_with_pos</th>\n",
       "      <th>triples_template</th>\n",
       "      <th>entities</th>\n",
       "      <th>predLabels</th>\n",
       "      <th>annotated_question</th>\n",
       "      <th>newPredLabels</th>\n",
       "      <th>ent_id</th>\n",
       "      <th>new_LabelsEnt</th>\n",
       "    </tr>\n",
       "  </thead>\n",
       "  <tbody>\n",
       "    <tr>\n",
       "      <th>5966</th>\n",
       "      <td>16961</td>\n",
       "      <td>What is antonym of of spore print color of Ple...</td>\n",
       "      <td>SELECT ?answer WHERE { wd:Q186451 wdt:P787 ?X ...</td>\n",
       "      <td>23</td>\n",
       "      <td>WP VBZ DT IN IN NN NN NN IN NNP NN</td>\n",
       "      <td>what is antonym of of spore print color of [En...</td>\n",
       "      <td>What/WP is/VBZ antonym/DT of/IN of/IN spore/NN...</td>\n",
       "      <td>[ pleurotus ostreatus ] &lt; spore print color &gt; ...</td>\n",
       "      <td>[pleurotus ostreatus]</td>\n",
       "      <td>[spore print color, opposite of]</td>\n",
       "      <td>[pleurotus ostreatus] &lt;spore print color&gt; &lt;opp...</td>\n",
       "      <td>[spore print color: P787, opposite of: P461]</td>\n",
       "      <td>[Q186451]</td>\n",
       "      <td>[pleurotus ostreatus: Q186451]</td>\n",
       "    </tr>\n",
       "    <tr>\n",
       "      <th>5967</th>\n",
       "      <td>23859</td>\n",
       "      <td>Tell me mixture whose name has the word spirom...</td>\n",
       "      <td>SELECT DISTINCT ?sbj ?sbj_label WHERE { ?sbj w...</td>\n",
       "      <td>1</td>\n",
       "      <td>VB PRP NN WP NN VBZ DT NN NN IN PRP</td>\n",
       "      <td>tell me mixture whose name has the word spirom...</td>\n",
       "      <td>Tell/VB me/PRP mixture/NN whose/WP$ name/NN ha...</td>\n",
       "      <td>subject &lt; instance of &gt; [ mixture ] . subject ...</td>\n",
       "      <td>[]</td>\n",
       "      <td>[instance of]</td>\n",
       "      <td>&lt;instance of&gt; Tell me mixture whose name has t...</td>\n",
       "      <td>[instance of: P31]</td>\n",
       "      <td>[Q169336]</td>\n",
       "      <td>[mixture: Q169336]</td>\n",
       "    </tr>\n",
       "    <tr>\n",
       "      <th>5968</th>\n",
       "      <td>29372</td>\n",
       "      <td>What Theoi Project ID does Manticore has?</td>\n",
       "      <td>select distinct ?answer where { wd:Q223795 wdt...</td>\n",
       "      <td>22</td>\n",
       "      <td>WP NNP NNP NNP VBZ NNP VBZ</td>\n",
       "      <td>what theoi project id does [Entity1] has?</td>\n",
       "      <td>What/WP Theoi/NNP Project/NNP ID/NNP does/VBZ ...</td>\n",
       "      <td>[ manticore ] &lt; theoi project id &gt; answer</td>\n",
       "      <td>[]</td>\n",
       "      <td>[theoi project id]</td>\n",
       "      <td>&lt;theoi project id&gt; What Theoi Project ID does ...</td>\n",
       "      <td>[theoi project id: P3545]</td>\n",
       "      <td>[Q223795]</td>\n",
       "      <td>[manticore: Q223795]</td>\n",
       "    </tr>\n",
       "  </tbody>\n",
       "</table>\n",
       "</div>"
      ],
      "text/plain": [
       "        uid                                           question  \\\n",
       "5966  16961  What is antonym of of spore print color of Ple...   \n",
       "5967  23859  Tell me mixture whose name has the word spirom...   \n",
       "5968  29372          What Theoi Project ID does Manticore has?   \n",
       "\n",
       "                                        sparql_wikidata  template_id  \\\n",
       "5966  SELECT ?answer WHERE { wd:Q186451 wdt:P787 ?X ...           23   \n",
       "5967  SELECT DISTINCT ?sbj ?sbj_label WHERE { ?sbj w...            1   \n",
       "5968  select distinct ?answer where { wd:Q223795 wdt...           22   \n",
       "\n",
       "                             question_pos  \\\n",
       "5966   WP VBZ DT IN IN NN NN NN IN NNP NN   \n",
       "5967  VB PRP NN WP NN VBZ DT NN NN IN PRP   \n",
       "5968           WP NNP NNP NNP VBZ NNP VBZ   \n",
       "\n",
       "                                        ent_masked_ques  \\\n",
       "5966  what is antonym of of spore print color of [En...   \n",
       "5967  tell me mixture whose name has the word spirom...   \n",
       "5968          what theoi project id does [Entity1] has?   \n",
       "\n",
       "                                      question_with_pos  \\\n",
       "5966  What/WP is/VBZ antonym/DT of/IN of/IN spore/NN...   \n",
       "5967  Tell/VB me/PRP mixture/NN whose/WP$ name/NN ha...   \n",
       "5968  What/WP Theoi/NNP Project/NNP ID/NNP does/VBZ ...   \n",
       "\n",
       "                                       triples_template  \\\n",
       "5966  [ pleurotus ostreatus ] < spore print color > ...   \n",
       "5967  subject < instance of > [ mixture ] . subject ...   \n",
       "5968          [ manticore ] < theoi project id > answer   \n",
       "\n",
       "                   entities                        predLabels  \\\n",
       "5966  [pleurotus ostreatus]  [spore print color, opposite of]   \n",
       "5967                     []                     [instance of]   \n",
       "5968                     []                [theoi project id]   \n",
       "\n",
       "                                     annotated_question  \\\n",
       "5966  [pleurotus ostreatus] <spore print color> <opp...   \n",
       "5967  <instance of> Tell me mixture whose name has t...   \n",
       "5968  <theoi project id> What Theoi Project ID does ...   \n",
       "\n",
       "                                     newPredLabels     ent_id  \\\n",
       "5966  [spore print color: P787, opposite of: P461]  [Q186451]   \n",
       "5967                            [instance of: P31]  [Q169336]   \n",
       "5968                     [theoi project id: P3545]  [Q223795]   \n",
       "\n",
       "                       new_LabelsEnt  \n",
       "5966  [pleurotus ostreatus: Q186451]  \n",
       "5967              [mixture: Q169336]  \n",
       "5968            [manticore: Q223795]  "
      ]
     },
     "execution_count": 64,
     "metadata": {},
     "output_type": "execute_result"
    }
   ],
   "source": [
    "new_l2_rony_test_df['new_LabelsEnt'] = fetch_lst_entites_for_df(new_l2_rony_test_df,qry_pt1,qry_pt2)\n",
    "print(len(new_l2_rony_test_df))\n",
    "new_l2_rony_test_df.tail(3)"
   ]
  },
  {
   "cell_type": "code",
   "execution_count": 65,
   "metadata": {},
   "outputs": [],
   "source": [
    "new_l2_rony_test_df.to_json('../data_files/lcq2_test_annot_rony_entLbl_25thNov.json', orient='records', indent=len(new_l2_rony_test_df.columns))"
   ]
  },
  {
   "cell_type": "code",
   "execution_count": 66,
   "metadata": {},
   "outputs": [
    {
     "name": "stdout",
     "output_type": "stream",
     "text": [
      "No of exceptions:  0\n",
      "23886\n"
     ]
    },
    {
     "data": {
      "text/html": [
       "<div>\n",
       "<style scoped>\n",
       "    .dataframe tbody tr th:only-of-type {\n",
       "        vertical-align: middle;\n",
       "    }\n",
       "\n",
       "    .dataframe tbody tr th {\n",
       "        vertical-align: top;\n",
       "    }\n",
       "\n",
       "    .dataframe thead th {\n",
       "        text-align: right;\n",
       "    }\n",
       "</style>\n",
       "<table border=\"1\" class=\"dataframe\">\n",
       "  <thead>\n",
       "    <tr style=\"text-align: right;\">\n",
       "      <th></th>\n",
       "      <th>uid</th>\n",
       "      <th>question</th>\n",
       "      <th>sparql_wikidata</th>\n",
       "      <th>template_id</th>\n",
       "      <th>question_pos</th>\n",
       "      <th>ent_masked_ques</th>\n",
       "      <th>question_with_pos</th>\n",
       "      <th>triples_template</th>\n",
       "      <th>entities</th>\n",
       "      <th>predLabels</th>\n",
       "      <th>annotated_question</th>\n",
       "      <th>newPredLabels</th>\n",
       "      <th>ent_id</th>\n",
       "      <th>new_LabelsEnt</th>\n",
       "    </tr>\n",
       "  </thead>\n",
       "  <tbody>\n",
       "    <tr>\n",
       "      <th>23883</th>\n",
       "      <td>29450</td>\n",
       "      <td>Which is the College de France professor ID (1...</td>\n",
       "      <td>select distinct ?answer where { wd:Q295393 wdt...</td>\n",
       "      <td>22</td>\n",
       "      <td>WDT VBZ DT NNP FW NNP NN NNP JJ IN NNP NNP</td>\n",
       "      <td>which is the college de france professor id (1...</td>\n",
       "      <td>Which/WDT is/VBZ the/DT College/NNP de/FW Fran...</td>\n",
       "      <td>[ marcel mauss ] &lt; college de france professor...</td>\n",
       "      <td>[]</td>\n",
       "      <td>[college de france professor id (1909-1939)]</td>\n",
       "      <td>&lt;college de france professor id (1909-1939)&gt; W...</td>\n",
       "      <td>[college de france professor id (1909-1939): P...</td>\n",
       "      <td>[Q295393]</td>\n",
       "      <td>[marcel mauss: Q295393]</td>\n",
       "    </tr>\n",
       "    <tr>\n",
       "      <th>23884</th>\n",
       "      <td>12241</td>\n",
       "      <td>What type of people live in Fresno, California...</td>\n",
       "      <td>SELECT ?answer WHERE { wd:Q42807 wdt:P190 ?ans...</td>\n",
       "      <td>21</td>\n",
       "      <td>WP NN IN NNS VBP IN NNP NNP POS NN NN</td>\n",
       "      <td>what type of people live in fresno, california...</td>\n",
       "      <td>What/WP type/NN of/IN people/NNS live/VBP in/I...</td>\n",
       "      <td>[ nîmes ] &lt; twinned administrative body &gt; answ...</td>\n",
       "      <td>[nîmes, category:people from fresno, california]</td>\n",
       "      <td>[twinned administrative body, category of asso...</td>\n",
       "      <td>[nîmes] [category:people from fresno, californ...</td>\n",
       "      <td>[twinned administrative body: P190, category o...</td>\n",
       "      <td>[Q42807, Q7118067]</td>\n",
       "      <td>[nîmes: Q42807, category:people from fresno, c...</td>\n",
       "    </tr>\n",
       "    <tr>\n",
       "      <th>23885</th>\n",
       "      <td>22794</td>\n",
       "      <td>For which film did Anil Kapoor win a Screen Ac...</td>\n",
       "      <td>select distinct ?sbj where { ?sbj wdt:P1346 w...</td>\n",
       "      <td>10</td>\n",
       "      <td>IN WDT NN VBD NNP NNP VBP DT JJ NNP NNP NNP</td>\n",
       "      <td>for which film did [Entity1] win a screen acto...</td>\n",
       "      <td>For/IN which/WDT film/NN did/VBD Anil/NNP Kapo...</td>\n",
       "      <td>subject &lt; winner &gt; [ anil kapoor ] . subject &lt;...</td>\n",
       "      <td>[anil kapoor]</td>\n",
       "      <td>[winner, instance of]</td>\n",
       "      <td>[anil kapoor] &lt;winner&gt; &lt;instance of&gt; For which...</td>\n",
       "      <td>[winner: P1346, instance of: P31]</td>\n",
       "      <td>[Q313956, Q268200]</td>\n",
       "      <td>[anil kapoor: Q313956, screen actors guild awa...</td>\n",
       "    </tr>\n",
       "  </tbody>\n",
       "</table>\n",
       "</div>"
      ],
      "text/plain": [
       "         uid                                           question  \\\n",
       "23883  29450  Which is the College de France professor ID (1...   \n",
       "23884  12241  What type of people live in Fresno, California...   \n",
       "23885  22794  For which film did Anil Kapoor win a Screen Ac...   \n",
       "\n",
       "                                         sparql_wikidata  template_id  \\\n",
       "23883  select distinct ?answer where { wd:Q295393 wdt...           22   \n",
       "23884  SELECT ?answer WHERE { wd:Q42807 wdt:P190 ?ans...           21   \n",
       "23885   select distinct ?sbj where { ?sbj wdt:P1346 w...           10   \n",
       "\n",
       "                                      question_pos  \\\n",
       "23883   WDT VBZ DT NNP FW NNP NN NNP JJ IN NNP NNP   \n",
       "23884        WP NN IN NNS VBP IN NNP NNP POS NN NN   \n",
       "23885  IN WDT NN VBD NNP NNP VBP DT JJ NNP NNP NNP   \n",
       "\n",
       "                                         ent_masked_ques  \\\n",
       "23883  which is the college de france professor id (1...   \n",
       "23884  what type of people live in fresno, california...   \n",
       "23885  for which film did [Entity1] win a screen acto...   \n",
       "\n",
       "                                       question_with_pos  \\\n",
       "23883  Which/WDT is/VBZ the/DT College/NNP de/FW Fran...   \n",
       "23884  What/WP type/NN of/IN people/NNS live/VBP in/I...   \n",
       "23885  For/IN which/WDT film/NN did/VBD Anil/NNP Kapo...   \n",
       "\n",
       "                                        triples_template  \\\n",
       "23883  [ marcel mauss ] < college de france professor...   \n",
       "23884  [ nîmes ] < twinned administrative body > answ...   \n",
       "23885  subject < winner > [ anil kapoor ] . subject <...   \n",
       "\n",
       "                                               entities  \\\n",
       "23883                                                []   \n",
       "23884  [nîmes, category:people from fresno, california]   \n",
       "23885                                     [anil kapoor]   \n",
       "\n",
       "                                              predLabels  \\\n",
       "23883       [college de france professor id (1909-1939)]   \n",
       "23884  [twinned administrative body, category of asso...   \n",
       "23885                              [winner, instance of]   \n",
       "\n",
       "                                      annotated_question  \\\n",
       "23883  <college de france professor id (1909-1939)> W...   \n",
       "23884  [nîmes] [category:people from fresno, californ...   \n",
       "23885  [anil kapoor] <winner> <instance of> For which...   \n",
       "\n",
       "                                           newPredLabels              ent_id  \\\n",
       "23883  [college de france professor id (1909-1939): P...           [Q295393]   \n",
       "23884  [twinned administrative body: P190, category o...  [Q42807, Q7118067]   \n",
       "23885                  [winner: P1346, instance of: P31]  [Q313956, Q268200]   \n",
       "\n",
       "                                           new_LabelsEnt  \n",
       "23883                            [marcel mauss: Q295393]  \n",
       "23884  [nîmes: Q42807, category:people from fresno, c...  \n",
       "23885  [anil kapoor: Q313956, screen actors guild awa...  "
      ]
     },
     "execution_count": 66,
     "metadata": {},
     "output_type": "execute_result"
    }
   ],
   "source": [
    "new_l2_rony_train_df['new_LabelsEnt'] = fetch_lst_entites_for_df(new_l2_rony_train_df,qry_pt1,qry_pt2)\n",
    "print(len(new_l2_rony_train_df))\n",
    "new_l2_rony_train_df.tail(3)"
   ]
  },
  {
   "cell_type": "code",
   "execution_count": 67,
   "metadata": {},
   "outputs": [],
   "source": [
    "new_l2_rony_train_df.to_json('../data_files/lcq2_train_annot_rony_entLbl_25thNov.json', orient='records', indent=len(new_l2_rony_train_df.columns))"
   ]
  },
  {
   "cell_type": "markdown",
   "metadata": {},
   "source": [
    "### End of changes for Rony's file 25th Nov 2021"
   ]
  },
  {
   "cell_type": "code",
   "execution_count": null,
   "metadata": {},
   "outputs": [],
   "source": []
  },
  {
   "cell_type": "code",
   "execution_count": null,
   "metadata": {},
   "outputs": [],
   "source": []
  },
  {
   "cell_type": "code",
   "execution_count": null,
   "metadata": {},
   "outputs": [],
   "source": []
  },
  {
   "cell_type": "markdown",
   "metadata": {},
   "source": [
    "#### To the files of MT train and test, append these additional columns of entities and relations and then add annot"
   ]
  },
  {
   "cell_type": "code",
   "execution_count": 1,
   "metadata": {},
   "outputs": [
    {
     "ename": "NameError",
     "evalue": "name 'pd' is not defined",
     "output_type": "error",
     "traceback": [
      "\u001b[0;31m---------------------------------------------------------------------------\u001b[0m",
      "\u001b[0;31mNameError\u001b[0m                                 Traceback (most recent call last)",
      "\u001b[0;32m/tmp/ipykernel_125855/2309483538.py\u001b[0m in \u001b[0;36m<module>\u001b[0;34m\u001b[0m\n\u001b[0;32m----> 1\u001b[0;31m \u001b[0ml2_train_sel_df\u001b[0m \u001b[0;34m=\u001b[0m \u001b[0mpd\u001b[0m\u001b[0;34m.\u001b[0m\u001b[0mread_json\u001b[0m\u001b[0;34m(\u001b[0m\u001b[0;34m'../data_files/lcq2_train_with_ent_rel.json'\u001b[0m\u001b[0;34m)\u001b[0m\u001b[0;34m\u001b[0m\u001b[0;34m\u001b[0m\u001b[0m\n\u001b[0m\u001b[1;32m      2\u001b[0m \u001b[0ml2_test_sel_df\u001b[0m \u001b[0;34m=\u001b[0m \u001b[0mpd\u001b[0m\u001b[0;34m.\u001b[0m\u001b[0mread_json\u001b[0m\u001b[0;34m(\u001b[0m\u001b[0;34m'../data_files/lcq2_test_with_ent_rel.json'\u001b[0m\u001b[0;34m)\u001b[0m\u001b[0;34m\u001b[0m\u001b[0;34m\u001b[0m\u001b[0m\n\u001b[1;32m      3\u001b[0m \u001b[0ml2_test_sel_df\u001b[0m\u001b[0;34m.\u001b[0m\u001b[0mhead\u001b[0m\u001b[0;34m(\u001b[0m\u001b[0;36m5\u001b[0m\u001b[0;34m)\u001b[0m\u001b[0;34m\u001b[0m\u001b[0;34m\u001b[0m\u001b[0m\n",
      "\u001b[0;31mNameError\u001b[0m: name 'pd' is not defined"
     ]
    }
   ],
   "source": [
    "l2_train_sel_df = pd.read_json('../data_files/lcq2_train_with_ent_rel.json')\n",
    "l2_test_sel_df = pd.read_json('../data_files/lcq2_test_with_ent_rel.json')\n",
    "l2_test_sel_df.head(5)"
   ]
  },
  {
   "cell_type": "code",
   "execution_count": 17,
   "metadata": {},
   "outputs": [],
   "source": [
    "def get_cnt_empty_lsts(lst):\n",
    "    ctr = 0\n",
    "    for item in lst: \n",
    "        if len(item) == 0:\n",
    "           ctr += 1\n",
    "    return ctr"
   ]
  },
  {
   "cell_type": "code",
   "execution_count": 20,
   "metadata": {},
   "outputs": [
    {
     "name": "stdout",
     "output_type": "stream",
     "text": [
      "total length of test dataframe is: 5969\n",
      "total no of questions with empty entities in the test dataframe is:  1351\n",
      "total no of questions with empty predicate labels in the test dataframe is:  9\n"
     ]
    }
   ],
   "source": [
    "print('total length of test dataframe is:',len(l2_test_sel_df))\n",
    "print('total no of questions with empty entities in the test dataframe is: ',get_cnt_empty_lsts(list(l2_test_sel_df['entites'])))\n",
    "print('total no of questions with empty predicate labels in the test dataframe is: ',get_cnt_empty_lsts(list(l2_test_sel_df['predLabels'])))"
   ]
  },
  {
   "cell_type": "code",
   "execution_count": 21,
   "metadata": {},
   "outputs": [
    {
     "name": "stdout",
     "output_type": "stream",
     "text": [
      "total length of train dataframe is: 23886\n",
      "total no of questions with empty entities in the train dataframe is:  5592\n",
      "total no of questions with empty predicate labels in the train dataframe is:  26\n"
     ]
    }
   ],
   "source": [
    "print('total length of train dataframe is:',len(l2_train_sel_df))\n",
    "print('total no of questions with empty entities in the train dataframe is: ',get_cnt_empty_lsts(list(l2_train_sel_df['entites'])))\n",
    "print('total no of questions with empty predicate labels in the train dataframe is: ',get_cnt_empty_lsts(list(l2_train_sel_df['predLabels'])))"
   ]
  },
  {
   "cell_type": "markdown",
   "metadata": {},
   "source": [
    "### Bringing in Machine Translation LCQuAD dataset"
   ]
  },
  {
   "cell_type": "code",
   "execution_count": 59,
   "metadata": {},
   "outputs": [],
   "source": [
    "l2_mt_train_df = pd.read_json('../data_files/lcq2_MT_train.json')\n",
    "l2_mt_test_df = pd.read_json('../data_files/lcq2_MT_test.json')"
   ]
  },
  {
   "cell_type": "code",
   "execution_count": 23,
   "metadata": {},
   "outputs": [
    {
     "data": {
      "text/html": [
       "<div>\n",
       "<style scoped>\n",
       "    .dataframe tbody tr th:only-of-type {\n",
       "        vertical-align: middle;\n",
       "    }\n",
       "\n",
       "    .dataframe tbody tr th {\n",
       "        vertical-align: top;\n",
       "    }\n",
       "\n",
       "    .dataframe thead th {\n",
       "        text-align: right;\n",
       "    }\n",
       "</style>\n",
       "<table border=\"1\" class=\"dataframe\">\n",
       "  <thead>\n",
       "    <tr style=\"text-align: right;\">\n",
       "      <th></th>\n",
       "      <th>uid</th>\n",
       "      <th>question</th>\n",
       "      <th>sparql_wikidata</th>\n",
       "      <th>template_id</th>\n",
       "      <th>question_pos</th>\n",
       "      <th>ent_masked_ques</th>\n",
       "      <th>question_with_pos</th>\n",
       "      <th>triples_template</th>\n",
       "    </tr>\n",
       "  </thead>\n",
       "  <tbody>\n",
       "    <tr>\n",
       "      <th>0</th>\n",
       "      <td>20258</td>\n",
       "      <td>Who is the  country for head of state of Mahmo...</td>\n",
       "      <td>select distinct ?sbj where { ?sbj wdt:P35 wd:...</td>\n",
       "      <td>10</td>\n",
       "      <td>WP VBZ DT NN IN NN IN NN IN NNP NNP</td>\n",
       "      <td>who is the  country for head of state of [Enti...</td>\n",
       "      <td>Who/WP is/VBZ the/DT country/NN for/IN head/NN...</td>\n",
       "      <td>subject &lt; head of state &gt; [ mahmoud abbas ] . ...</td>\n",
       "    </tr>\n",
       "    <tr>\n",
       "      <th>1</th>\n",
       "      <td>7141</td>\n",
       "      <td>What was the population of Somalia in 2009-0-0?</td>\n",
       "      <td>SELECT ?obj WHERE { wd:Q1045 p:P1082 ?s . ?s p...</td>\n",
       "      <td>7</td>\n",
       "      <td>WP VBD DT NN IN NNP IN CD</td>\n",
       "      <td>what was the population of [Entity1] in 2009-0-0?</td>\n",
       "      <td>What/WP was/VBD the/DT population/NN of/IN Som...</td>\n",
       "      <td>[ somalia ] &lt; population &gt; ?s . ?s &lt; populatio...</td>\n",
       "    </tr>\n",
       "  </tbody>\n",
       "</table>\n",
       "</div>"
      ],
      "text/plain": [
       "     uid                                           question  \\\n",
       "0  20258  Who is the  country for head of state of Mahmo...   \n",
       "1   7141    What was the population of Somalia in 2009-0-0?   \n",
       "\n",
       "                                     sparql_wikidata  template_id  \\\n",
       "0   select distinct ?sbj where { ?sbj wdt:P35 wd:...           10   \n",
       "1  SELECT ?obj WHERE { wd:Q1045 p:P1082 ?s . ?s p...            7   \n",
       "\n",
       "                          question_pos  \\\n",
       "0  WP VBZ DT NN IN NN IN NN IN NNP NNP   \n",
       "1            WP VBD DT NN IN NNP IN CD   \n",
       "\n",
       "                                     ent_masked_ques  \\\n",
       "0  who is the  country for head of state of [Enti...   \n",
       "1  what was the population of [Entity1] in 2009-0-0?   \n",
       "\n",
       "                                   question_with_pos  \\\n",
       "0  Who/WP is/VBZ the/DT country/NN for/IN head/NN...   \n",
       "1  What/WP was/VBD the/DT population/NN of/IN Som...   \n",
       "\n",
       "                                    triples_template  \n",
       "0  subject < head of state > [ mahmoud abbas ] . ...  \n",
       "1  [ somalia ] < population > ?s . ?s < populatio...  "
      ]
     },
     "execution_count": 23,
     "metadata": {},
     "output_type": "execute_result"
    }
   ],
   "source": [
    "l2_mt_test_df.head(2)"
   ]
  },
  {
   "cell_type": "code",
   "execution_count": 60,
   "metadata": {},
   "outputs": [],
   "source": [
    "def add_ent_rel_annot(df,df_mt):\n",
    "    lst_entities = []\n",
    "    lst_predLabels = []\n",
    "    lst_annot_ques = []\n",
    "    for idx,row in df_mt.iterrows():\n",
    "        st_ent_annot = ''\n",
    "        st_rel_annot = ''\n",
    "        uid = row['uid']\n",
    "        red_df = df.loc[df['uid']==uid]\n",
    "        if not red_df.empty:\n",
    "           for ent_item in red_df['entites'].values[0]:\n",
    "               st_ent_annot += \"[\" + ent_item +\"] \"\n",
    "               st_ent_annot = st_ent_annot.replace('\\n',' ')\n",
    "           for rel_item in red_df['predLabels'].values[0]:\n",
    "               st_rel_annot += \"<\" + rel_item +\"> \"\n",
    "               st_rel_annot = st_rel_annot.replace('\\n',' ')\n",
    "           tmp_st = str(red_df['question'].values[0]).replace('\\n','')\n",
    "           lst_annot_ques.append(st_ent_annot + st_rel_annot + tmp_st)\n",
    "           lst_entities.append(red_df['entites'].values[0])\n",
    "           lst_predLabels.append(red_df['predLabels'].values[0])\n",
    "        else:\n",
    "           lst_annot_ques.append(str(row['question']).replace('\\n',''))\n",
    "           lst_entities.append([])\n",
    "           lst_predLabels.append([])\n",
    "    df_mt['entities'] = lst_entities\n",
    "    df_mt['predLabels'] = lst_predLabels\n",
    "    df_mt['annotated_question'] = lst_annot_ques\n",
    "    return df_mt"
   ]
  },
  {
   "cell_type": "code",
   "execution_count": 61,
   "metadata": {},
   "outputs": [
    {
     "data": {
      "text/html": [
       "<div>\n",
       "<style scoped>\n",
       "    .dataframe tbody tr th:only-of-type {\n",
       "        vertical-align: middle;\n",
       "    }\n",
       "\n",
       "    .dataframe tbody tr th {\n",
       "        vertical-align: top;\n",
       "    }\n",
       "\n",
       "    .dataframe thead th {\n",
       "        text-align: right;\n",
       "    }\n",
       "</style>\n",
       "<table border=\"1\" class=\"dataframe\">\n",
       "  <thead>\n",
       "    <tr style=\"text-align: right;\">\n",
       "      <th></th>\n",
       "      <th>uid</th>\n",
       "      <th>question</th>\n",
       "      <th>sparql_wikidata</th>\n",
       "      <th>template_id</th>\n",
       "      <th>question_pos</th>\n",
       "      <th>ent_masked_ques</th>\n",
       "      <th>question_with_pos</th>\n",
       "      <th>triples_template</th>\n",
       "      <th>entities</th>\n",
       "      <th>predLabels</th>\n",
       "      <th>annotated_question</th>\n",
       "    </tr>\n",
       "  </thead>\n",
       "  <tbody>\n",
       "    <tr>\n",
       "      <th>0</th>\n",
       "      <td>20258</td>\n",
       "      <td>Who is the  country for head of state of Mahmo...</td>\n",
       "      <td>select distinct ?sbj where { ?sbj wdt:P35 wd:...</td>\n",
       "      <td>10</td>\n",
       "      <td>WP VBZ DT NN IN NN IN NN IN NNP NNP</td>\n",
       "      <td>who is the  country for head of state of [Enti...</td>\n",
       "      <td>Who/WP is/VBZ the/DT country/NN for/IN head/NN...</td>\n",
       "      <td>subject &lt; head of state &gt; [ mahmoud abbas ] . ...</td>\n",
       "      <td>[mahmoud abbas]</td>\n",
       "      <td>[head of state, instance of]</td>\n",
       "      <td>[mahmoud abbas] &lt;head of state&gt; &lt;instance of&gt; ...</td>\n",
       "    </tr>\n",
       "    <tr>\n",
       "      <th>1</th>\n",
       "      <td>7141</td>\n",
       "      <td>What was the population of Somalia in 2009-0-0?</td>\n",
       "      <td>SELECT ?obj WHERE { wd:Q1045 p:P1082 ?s . ?s p...</td>\n",
       "      <td>7</td>\n",
       "      <td>WP VBD DT NN IN NNP IN CD</td>\n",
       "      <td>what was the population of [Entity1] in 2009-0-0?</td>\n",
       "      <td>What/WP was/VBD the/DT population/NN of/IN Som...</td>\n",
       "      <td>[ somalia ] &lt; population &gt; ?s . ?s &lt; populatio...</td>\n",
       "      <td>[somalia]</td>\n",
       "      <td>[population, point in time]</td>\n",
       "      <td>[somalia] &lt;population&gt; &lt;point in time&gt; What wa...</td>\n",
       "    </tr>\n",
       "  </tbody>\n",
       "</table>\n",
       "</div>"
      ],
      "text/plain": [
       "     uid                                           question  \\\n",
       "0  20258  Who is the  country for head of state of Mahmo...   \n",
       "1   7141    What was the population of Somalia in 2009-0-0?   \n",
       "\n",
       "                                     sparql_wikidata  template_id  \\\n",
       "0   select distinct ?sbj where { ?sbj wdt:P35 wd:...           10   \n",
       "1  SELECT ?obj WHERE { wd:Q1045 p:P1082 ?s . ?s p...            7   \n",
       "\n",
       "                          question_pos  \\\n",
       "0  WP VBZ DT NN IN NN IN NN IN NNP NNP   \n",
       "1            WP VBD DT NN IN NNP IN CD   \n",
       "\n",
       "                                     ent_masked_ques  \\\n",
       "0  who is the  country for head of state of [Enti...   \n",
       "1  what was the population of [Entity1] in 2009-0-0?   \n",
       "\n",
       "                                   question_with_pos  \\\n",
       "0  Who/WP is/VBZ the/DT country/NN for/IN head/NN...   \n",
       "1  What/WP was/VBD the/DT population/NN of/IN Som...   \n",
       "\n",
       "                                    triples_template         entities  \\\n",
       "0  subject < head of state > [ mahmoud abbas ] . ...  [mahmoud abbas]   \n",
       "1  [ somalia ] < population > ?s . ?s < populatio...        [somalia]   \n",
       "\n",
       "                     predLabels  \\\n",
       "0  [head of state, instance of]   \n",
       "1   [population, point in time]   \n",
       "\n",
       "                                  annotated_question  \n",
       "0  [mahmoud abbas] <head of state> <instance of> ...  \n",
       "1  [somalia] <population> <point in time> What wa...  "
      ]
     },
     "execution_count": 61,
     "metadata": {},
     "output_type": "execute_result"
    }
   ],
   "source": [
    "df_mt_test = add_ent_rel_annot(l2_test_sel_df,l2_mt_test_df)\n",
    "df_mt_test.head(2)"
   ]
  },
  {
   "cell_type": "code",
   "execution_count": 62,
   "metadata": {},
   "outputs": [],
   "source": [
    "df_mt_test.to_json('../data_files/lcq2_MT_annot_test.json', orient='records', indent=len(df_mt_test.columns))"
   ]
  },
  {
   "cell_type": "code",
   "execution_count": 63,
   "metadata": {},
   "outputs": [
    {
     "data": {
      "text/html": [
       "<div>\n",
       "<style scoped>\n",
       "    .dataframe tbody tr th:only-of-type {\n",
       "        vertical-align: middle;\n",
       "    }\n",
       "\n",
       "    .dataframe tbody tr th {\n",
       "        vertical-align: top;\n",
       "    }\n",
       "\n",
       "    .dataframe thead th {\n",
       "        text-align: right;\n",
       "    }\n",
       "</style>\n",
       "<table border=\"1\" class=\"dataframe\">\n",
       "  <thead>\n",
       "    <tr style=\"text-align: right;\">\n",
       "      <th></th>\n",
       "      <th>uid</th>\n",
       "      <th>question</th>\n",
       "      <th>sparql_wikidata</th>\n",
       "      <th>template_id</th>\n",
       "      <th>question_pos</th>\n",
       "      <th>ent_masked_ques</th>\n",
       "      <th>question_with_pos</th>\n",
       "      <th>triples_template</th>\n",
       "      <th>entities</th>\n",
       "      <th>predLabels</th>\n",
       "      <th>annotated_question</th>\n",
       "    </tr>\n",
       "  </thead>\n",
       "  <tbody>\n",
       "    <tr>\n",
       "      <th>0</th>\n",
       "      <td>19719</td>\n",
       "      <td>What periodical literature does Delta Air Line...</td>\n",
       "      <td>select distinct ?obj where { wd:Q188920 wdt:P...</td>\n",
       "      <td>5</td>\n",
       "      <td>WP JJ NN VBZ NNP NNP NNPS NN IN DT NN</td>\n",
       "      <td>what [Entity1] does [Entity2] use as a moutpiece?</td>\n",
       "      <td>What/WP periodical/JJ literature/NN does/VBZ D...</td>\n",
       "      <td>[ delta air lines ] &lt; house publication &gt; obje...</td>\n",
       "      <td>[periodical literature, delta air lines]</td>\n",
       "      <td>[house publication, instance of]</td>\n",
       "      <td>[periodical literature] [delta air lines] &lt;hou...</td>\n",
       "    </tr>\n",
       "    <tr>\n",
       "      <th>1</th>\n",
       "      <td>15554</td>\n",
       "      <td>Who is the child of Ranavalona I's husband?</td>\n",
       "      <td>SELECT ?answer WHERE { wd:Q169794 wdt:P26 ?X ....</td>\n",
       "      <td>18</td>\n",
       "      <td>WP VBZ DT NN IN NNP PRP POS NN</td>\n",
       "      <td>who is the child of [Entity1]'s husband?</td>\n",
       "      <td>Who/WP is/VBZ the/DT child/NN of/IN Ranavalona...</td>\n",
       "      <td>[ ranavalona i of madagascar ] &lt; spouse &gt; ?x ....</td>\n",
       "      <td>[ranavalona i]</td>\n",
       "      <td>[spouse, father]</td>\n",
       "      <td>[ranavalona i] &lt;spouse&gt; &lt;father&gt; Who is the ch...</td>\n",
       "    </tr>\n",
       "  </tbody>\n",
       "</table>\n",
       "</div>"
      ],
      "text/plain": [
       "     uid                                           question  \\\n",
       "0  19719  What periodical literature does Delta Air Line...   \n",
       "1  15554        Who is the child of Ranavalona I's husband?   \n",
       "\n",
       "                                     sparql_wikidata  template_id  \\\n",
       "0   select distinct ?obj where { wd:Q188920 wdt:P...            5   \n",
       "1  SELECT ?answer WHERE { wd:Q169794 wdt:P26 ?X ....           18   \n",
       "\n",
       "                            question_pos  \\\n",
       "0  WP JJ NN VBZ NNP NNP NNPS NN IN DT NN   \n",
       "1         WP VBZ DT NN IN NNP PRP POS NN   \n",
       "\n",
       "                                     ent_masked_ques  \\\n",
       "0  what [Entity1] does [Entity2] use as a moutpiece?   \n",
       "1           who is the child of [Entity1]'s husband?   \n",
       "\n",
       "                                   question_with_pos  \\\n",
       "0  What/WP periodical/JJ literature/NN does/VBZ D...   \n",
       "1  Who/WP is/VBZ the/DT child/NN of/IN Ranavalona...   \n",
       "\n",
       "                                    triples_template  \\\n",
       "0  [ delta air lines ] < house publication > obje...   \n",
       "1  [ ranavalona i of madagascar ] < spouse > ?x ....   \n",
       "\n",
       "                                   entities                        predLabels  \\\n",
       "0  [periodical literature, delta air lines]  [house publication, instance of]   \n",
       "1                            [ranavalona i]                  [spouse, father]   \n",
       "\n",
       "                                  annotated_question  \n",
       "0  [periodical literature] [delta air lines] <hou...  \n",
       "1  [ranavalona i] <spouse> <father> Who is the ch...  "
      ]
     },
     "execution_count": 63,
     "metadata": {},
     "output_type": "execute_result"
    }
   ],
   "source": [
    "df_mt_train = add_ent_rel_annot(l2_train_sel_df,l2_mt_train_df)\n",
    "df_mt_train.head(2)"
   ]
  },
  {
   "cell_type": "code",
   "execution_count": 64,
   "metadata": {},
   "outputs": [],
   "source": [
    "df_mt_train.to_json('../data_files/lcq2_MT_annot_train.json', orient='records', indent=len(df_mt_train.columns))"
   ]
  },
  {
   "cell_type": "markdown",
   "metadata": {},
   "source": [
    "#### Filtering out those questions where entities and relation labels are blank"
   ]
  },
  {
   "cell_type": "code",
   "execution_count": 2,
   "metadata": {},
   "outputs": [],
   "source": [
    "df_mt_test = pd.read_json('../data_files/lcq2_MT_annot_test.json')\n",
    "df_mt_train = pd.read_json('../data_files/lcq2_MT_annot_train.json')"
   ]
  },
  {
   "cell_type": "code",
   "execution_count": 3,
   "metadata": {},
   "outputs": [
    {
     "name": "stdout",
     "output_type": "stream",
     "text": [
      "23886\n",
      "5969\n"
     ]
    }
   ],
   "source": [
    "print(len(df_mt_train))\n",
    "print(len(df_mt_test))"
   ]
  },
  {
   "cell_type": "code",
   "execution_count": 36,
   "metadata": {},
   "outputs": [
    {
     "data": {
      "text/html": [
       "<div>\n",
       "<style scoped>\n",
       "    .dataframe tbody tr th:only-of-type {\n",
       "        vertical-align: middle;\n",
       "    }\n",
       "\n",
       "    .dataframe tbody tr th {\n",
       "        vertical-align: top;\n",
       "    }\n",
       "\n",
       "    .dataframe thead th {\n",
       "        text-align: right;\n",
       "    }\n",
       "</style>\n",
       "<table border=\"1\" class=\"dataframe\">\n",
       "  <thead>\n",
       "    <tr style=\"text-align: right;\">\n",
       "      <th></th>\n",
       "      <th>uid</th>\n",
       "      <th>question</th>\n",
       "      <th>sparql_wikidata</th>\n",
       "      <th>template_id</th>\n",
       "      <th>question_pos</th>\n",
       "      <th>ent_masked_ques</th>\n",
       "      <th>question_with_pos</th>\n",
       "      <th>triples_template</th>\n",
       "      <th>entities</th>\n",
       "      <th>predLabels</th>\n",
       "      <th>annotated_question</th>\n",
       "    </tr>\n",
       "  </thead>\n",
       "  <tbody>\n",
       "    <tr>\n",
       "      <th>58</th>\n",
       "      <td>1261</td>\n",
       "      <td>Charles the Bald has how many noble titles?</td>\n",
       "      <td>SELECT (COUNT(?obj) AS ?value ) { wd:Q71231 wd...</td>\n",
       "      <td>19</td>\n",
       "      <td>NNP DT NNP VBZ WRB JJ JJ NNS</td>\n",
       "      <td>[Entity1] has how many noble titles?</td>\n",
       "      <td>Charles/NNP the/DT Bald/NNP has/VBZ how/WRB ma...</td>\n",
       "      <td>select (count(object) as value )  [ charles th...</td>\n",
       "      <td>[charles the bald]</td>\n",
       "      <td>[noble title]</td>\n",
       "      <td>[charles the bald] &lt;noble title&gt; Charles the B...</td>\n",
       "    </tr>\n",
       "    <tr>\n",
       "      <th>71</th>\n",
       "      <td>1436</td>\n",
       "      <td>What is the time-weighted average exposure lim...</td>\n",
       "      <td>SELECT (COUNT(?obj) AS ?value ) { wd:Q871 wdt:...</td>\n",
       "      <td>19</td>\n",
       "      <td>WP VBZ DT JJ JJ NN NN IN NN</td>\n",
       "      <td>what is the time-weighted average exposure lim...</td>\n",
       "      <td>What/WP is/VBZ the/DT time-weighted/JJ average...</td>\n",
       "      <td>select (count(object) as value )  [ arsenic ] ...</td>\n",
       "      <td>[arsenic]</td>\n",
       "      <td>[time-weighted average exposure limit]</td>\n",
       "      <td>[arsenic] &lt;time-weighted average exposure limi...</td>\n",
       "    </tr>\n",
       "    <tr>\n",
       "      <th>72</th>\n",
       "      <td>1175</td>\n",
       "      <td>how many superpowers does wonder woman have?</td>\n",
       "      <td>SELECT (COUNT(?obj) AS ?value ) { wd:Q338430 w...</td>\n",
       "      <td>19</td>\n",
       "      <td>WRB JJ NNS VBZ JJR NN VB</td>\n",
       "      <td>how many superpowers does [Entity1] have?</td>\n",
       "      <td>how/WRB many/JJ superpowers/NNS does/VBZ wonde...</td>\n",
       "      <td>select (count(object) as value )  [ wonder wom...</td>\n",
       "      <td>[wonder woman]</td>\n",
       "      <td>[superhuman feature or ability]</td>\n",
       "      <td>[wonder woman] &lt;superhuman feature or ability&gt;...</td>\n",
       "    </tr>\n",
       "    <tr>\n",
       "      <th>80</th>\n",
       "      <td>1397</td>\n",
       "      <td>In French have a person in grammatical?</td>\n",
       "      <td>SELECT (COUNT(?obj) AS ?value ) { wd:Q150 wdt:...</td>\n",
       "      <td>19</td>\n",
       "      <td>IN NNP VBP DT NN IN JJ</td>\n",
       "      <td>in [Entity1] have a person in grammatical?</td>\n",
       "      <td>In/IN French/NNP have/VBP a/DT person/NN in/IN...</td>\n",
       "      <td>select (count(object) as value )  [ french ] &lt;...</td>\n",
       "      <td>[french]</td>\n",
       "      <td>[has grammatical person]</td>\n",
       "      <td>[french] &lt;has grammatical person&gt; In French ha...</td>\n",
       "    </tr>\n",
       "    <tr>\n",
       "      <th>101</th>\n",
       "      <td>1584</td>\n",
       "      <td>How much does Primavera depict?</td>\n",
       "      <td>SELECT (COUNT(?obj) AS ?value ) { wd:Q549847 w...</td>\n",
       "      <td>19</td>\n",
       "      <td>WRB JJ VBZ VB VB</td>\n",
       "      <td>how much does [Entity1] depict?</td>\n",
       "      <td>How/WRB much/JJ does/VBZ Primavera/VB depict/V...</td>\n",
       "      <td>select (count(object) as value )  [ primavera ...</td>\n",
       "      <td>[primavera]</td>\n",
       "      <td>[depicts]</td>\n",
       "      <td>[primavera] &lt;depicts&gt; How much does Primavera ...</td>\n",
       "    </tr>\n",
       "  </tbody>\n",
       "</table>\n",
       "</div>"
      ],
      "text/plain": [
       "      uid                                           question  \\\n",
       "58   1261        Charles the Bald has how many noble titles?   \n",
       "71   1436  What is the time-weighted average exposure lim...   \n",
       "72   1175       how many superpowers does wonder woman have?   \n",
       "80   1397            In French have a person in grammatical?   \n",
       "101  1584                    How much does Primavera depict?   \n",
       "\n",
       "                                       sparql_wikidata  template_id  \\\n",
       "58   SELECT (COUNT(?obj) AS ?value ) { wd:Q71231 wd...           19   \n",
       "71   SELECT (COUNT(?obj) AS ?value ) { wd:Q871 wdt:...           19   \n",
       "72   SELECT (COUNT(?obj) AS ?value ) { wd:Q338430 w...           19   \n",
       "80   SELECT (COUNT(?obj) AS ?value ) { wd:Q150 wdt:...           19   \n",
       "101  SELECT (COUNT(?obj) AS ?value ) { wd:Q549847 w...           19   \n",
       "\n",
       "                     question_pos  \\\n",
       "58   NNP DT NNP VBZ WRB JJ JJ NNS   \n",
       "71    WP VBZ DT JJ JJ NN NN IN NN   \n",
       "72       WRB JJ NNS VBZ JJR NN VB   \n",
       "80         IN NNP VBP DT NN IN JJ   \n",
       "101              WRB JJ VBZ VB VB   \n",
       "\n",
       "                                       ent_masked_ques  \\\n",
       "58                [Entity1] has how many noble titles?   \n",
       "71   what is the time-weighted average exposure lim...   \n",
       "72           how many superpowers does [Entity1] have?   \n",
       "80          in [Entity1] have a person in grammatical?   \n",
       "101                    how much does [Entity1] depict?   \n",
       "\n",
       "                                     question_with_pos  \\\n",
       "58   Charles/NNP the/DT Bald/NNP has/VBZ how/WRB ma...   \n",
       "71   What/WP is/VBZ the/DT time-weighted/JJ average...   \n",
       "72   how/WRB many/JJ superpowers/NNS does/VBZ wonde...   \n",
       "80   In/IN French/NNP have/VBP a/DT person/NN in/IN...   \n",
       "101  How/WRB much/JJ does/VBZ Primavera/VB depict/V...   \n",
       "\n",
       "                                      triples_template            entities  \\\n",
       "58   select (count(object) as value )  [ charles th...  [charles the bald]   \n",
       "71   select (count(object) as value )  [ arsenic ] ...           [arsenic]   \n",
       "72   select (count(object) as value )  [ wonder wom...      [wonder woman]   \n",
       "80   select (count(object) as value )  [ french ] <...            [french]   \n",
       "101  select (count(object) as value )  [ primavera ...         [primavera]   \n",
       "\n",
       "                                 predLabels  \\\n",
       "58                            [noble title]   \n",
       "71   [time-weighted average exposure limit]   \n",
       "72          [superhuman feature or ability]   \n",
       "80                 [has grammatical person]   \n",
       "101                               [depicts]   \n",
       "\n",
       "                                    annotated_question  \n",
       "58   [charles the bald] <noble title> Charles the B...  \n",
       "71   [arsenic] <time-weighted average exposure limi...  \n",
       "72   [wonder woman] <superhuman feature or ability>...  \n",
       "80   [french] <has grammatical person> In French ha...  \n",
       "101  [primavera] <depicts> How much does Primavera ...  "
      ]
     },
     "execution_count": 36,
     "metadata": {},
     "output_type": "execute_result"
    }
   ],
   "source": [
    "df_mt_test.loc[df_mt_test['template_id'].isin([19])].head(5)    #5, 3, 10, 11, 12, 15, 16, 19"
   ]
  },
  {
   "cell_type": "code",
   "execution_count": 37,
   "metadata": {},
   "outputs": [],
   "source": [
    "#filtering teh dataset to avoid complex questions  ... only have 3,5,11,15,19\n",
    "df_mt_train = df_mt_train.loc[df_mt_train['template_id'].isin([3,5,11,15,19])]"
   ]
  },
  {
   "cell_type": "code",
   "execution_count": 38,
   "metadata": {},
   "outputs": [
    {
     "data": {
      "text/plain": [
       "4618"
      ]
     },
     "execution_count": 38,
     "metadata": {},
     "output_type": "execute_result"
    }
   ],
   "source": [
    "len(df_mt_train)"
   ]
  },
  {
   "cell_type": "code",
   "execution_count": null,
   "metadata": {},
   "outputs": [],
   "source": []
  },
  {
   "cell_type": "code",
   "execution_count": 39,
   "metadata": {},
   "outputs": [],
   "source": [
    "df_mt_train['annotated_question'] = df_mt_train['annotated_question'].apply(lambda x: str(x[:]).replace('\\n', ' '))\n",
    "#df_mt_test['annotated_question'] = df_mt_test['annotated_question'].apply(lambda x: str(x[:]).replace('\\n', ' '))"
   ]
  },
  {
   "cell_type": "code",
   "execution_count": 4,
   "metadata": {},
   "outputs": [
    {
     "data": {
      "text/html": [
       "<div>\n",
       "<style scoped>\n",
       "    .dataframe tbody tr th:only-of-type {\n",
       "        vertical-align: middle;\n",
       "    }\n",
       "\n",
       "    .dataframe tbody tr th {\n",
       "        vertical-align: top;\n",
       "    }\n",
       "\n",
       "    .dataframe thead th {\n",
       "        text-align: right;\n",
       "    }\n",
       "</style>\n",
       "<table border=\"1\" class=\"dataframe\">\n",
       "  <thead>\n",
       "    <tr style=\"text-align: right;\">\n",
       "      <th></th>\n",
       "      <th>uid</th>\n",
       "      <th>question</th>\n",
       "      <th>sparql_wikidata</th>\n",
       "      <th>template_id</th>\n",
       "      <th>question_pos</th>\n",
       "      <th>ent_masked_ques</th>\n",
       "      <th>question_with_pos</th>\n",
       "      <th>triples_template</th>\n",
       "      <th>entities</th>\n",
       "      <th>predLabels</th>\n",
       "      <th>annotated_question</th>\n",
       "    </tr>\n",
       "  </thead>\n",
       "  <tbody>\n",
       "    <tr>\n",
       "      <th>0</th>\n",
       "      <td>20258</td>\n",
       "      <td>Who is the  country for head of state of Mahmo...</td>\n",
       "      <td>select distinct ?sbj where { ?sbj wdt:P35 wd:...</td>\n",
       "      <td>10</td>\n",
       "      <td>WP VBZ DT NN IN NN IN NN IN NNP NNP</td>\n",
       "      <td>who is the  country for head of state of [Enti...</td>\n",
       "      <td>Who/WP is/VBZ the/DT country/NN for/IN head/NN...</td>\n",
       "      <td>subject &lt; head of state &gt; [ mahmoud abbas ] . ...</td>\n",
       "      <td>[mahmoud abbas]</td>\n",
       "      <td>[head of state, instance of]</td>\n",
       "      <td>[mahmoud abbas] &lt;head of state&gt; &lt;instance of&gt; ...</td>\n",
       "    </tr>\n",
       "    <tr>\n",
       "      <th>1</th>\n",
       "      <td>7141</td>\n",
       "      <td>What was the population of Somalia in 2009-0-0?</td>\n",
       "      <td>SELECT ?obj WHERE { wd:Q1045 p:P1082 ?s . ?s p...</td>\n",
       "      <td>7</td>\n",
       "      <td>WP VBD DT NN IN NNP IN CD</td>\n",
       "      <td>what was the population of [Entity1] in 2009-0-0?</td>\n",
       "      <td>What/WP was/VBD the/DT population/NN of/IN Som...</td>\n",
       "      <td>[ somalia ] &lt; population &gt; ?s . ?s &lt; populatio...</td>\n",
       "      <td>[somalia]</td>\n",
       "      <td>[population, point in time]</td>\n",
       "      <td>[somalia] &lt;population&gt; &lt;point in time&gt; What wa...</td>\n",
       "    </tr>\n",
       "  </tbody>\n",
       "</table>\n",
       "</div>"
      ],
      "text/plain": [
       "     uid                                           question  \\\n",
       "0  20258  Who is the  country for head of state of Mahmo...   \n",
       "1   7141    What was the population of Somalia in 2009-0-0?   \n",
       "\n",
       "                                     sparql_wikidata  template_id  \\\n",
       "0   select distinct ?sbj where { ?sbj wdt:P35 wd:...           10   \n",
       "1  SELECT ?obj WHERE { wd:Q1045 p:P1082 ?s . ?s p...            7   \n",
       "\n",
       "                          question_pos  \\\n",
       "0  WP VBZ DT NN IN NN IN NN IN NNP NNP   \n",
       "1            WP VBD DT NN IN NNP IN CD   \n",
       "\n",
       "                                     ent_masked_ques  \\\n",
       "0  who is the  country for head of state of [Enti...   \n",
       "1  what was the population of [Entity1] in 2009-0-0?   \n",
       "\n",
       "                                   question_with_pos  \\\n",
       "0  Who/WP is/VBZ the/DT country/NN for/IN head/NN...   \n",
       "1  What/WP was/VBD the/DT population/NN of/IN Som...   \n",
       "\n",
       "                                    triples_template         entities  \\\n",
       "0  subject < head of state > [ mahmoud abbas ] . ...  [mahmoud abbas]   \n",
       "1  [ somalia ] < population > ?s . ?s < populatio...        [somalia]   \n",
       "\n",
       "                     predLabels  \\\n",
       "0  [head of state, instance of]   \n",
       "1   [population, point in time]   \n",
       "\n",
       "                                  annotated_question  \n",
       "0  [mahmoud abbas] <head of state> <instance of> ...  \n",
       "1  [somalia] <population> <point in time> What wa...  "
      ]
     },
     "execution_count": 4,
     "metadata": {},
     "output_type": "execute_result"
    }
   ],
   "source": [
    "df_mt_test.head(2)"
   ]
  },
  {
   "cell_type": "code",
   "execution_count": 40,
   "metadata": {},
   "outputs": [],
   "source": [
    "#put an indicator where entity or predLabels list is blank\n",
    "def get_df_non_empty_ent_rel(df):\n",
    "    lst_ent_pred_present = []\n",
    "    for idx,row in df.iterrows(): \n",
    "        if len(row['entities']) == 0 or len(row['predLabels']) == 0:\n",
    "           lst_ent_pred_present.append(0)\n",
    "        else:\n",
    "           lst_ent_pred_present.append(1)\n",
    "    df['ent_pred_present'] = lst_ent_pred_present\n",
    "    return df"
   ]
  },
  {
   "cell_type": "code",
   "execution_count": 6,
   "metadata": {},
   "outputs": [
    {
     "name": "stdout",
     "output_type": "stream",
     "text": [
      "4615\n"
     ]
    }
   ],
   "source": [
    "df_mt_test_rev = get_df_non_empty_ent_rel(df_mt_test)\n",
    "df_mt_test_rev = df_mt_test_rev.loc[df_mt_test_rev['ent_pred_present']==1]\n",
    "print(len(df_mt_test_rev))"
   ]
  },
  {
   "cell_type": "code",
   "execution_count": 41,
   "metadata": {},
   "outputs": [
    {
     "name": "stdout",
     "output_type": "stream",
     "text": [
      "3338\n"
     ]
    }
   ],
   "source": [
    "df_mt_train_rev = get_df_non_empty_ent_rel(df_mt_train)\n",
    "df_mt_train_rev = df_mt_train_rev.loc[df_mt_train_rev['ent_pred_present']==1]\n",
    "print(len(df_mt_train_rev))"
   ]
  },
  {
   "cell_type": "code",
   "execution_count": 8,
   "metadata": {},
   "outputs": [],
   "source": [
    "test_df = df_mt_test_rev[['annotated_question','triples_template']]\n",
    "test_df['data'] = test_df.apply(lambda row: (str(row['annotated_question']) + ' ' + '\\t' + ' ' + str(row['triples_template'])), axis=1) \n",
    "test_df[['data']].to_csv('../data_files/lcq2_ann_MT_test.txt', header=None, index=None, mode='a')"
   ]
  },
  {
   "cell_type": "code",
   "execution_count": 47,
   "metadata": {},
   "outputs": [],
   "source": [
    "#train_df = df_mt_train_rev[['annotated_question','triples_template','question']]\n",
    "#train_df['data'] = train_df.apply(lambda row: (str(row['annotated_question']) + ' ' + '\\t' + ' ' + str(row['triples_template'])), axis=1) \n",
    "train_df['data'] = train_df.apply(lambda row: (str(row['question']) + ' ' + '\\t' + ' ' + str(row['triples_template'])), axis=1) \n",
    "train_df['data'].to_csv('../data_files/lcq2_ann_MT_train_23nov_q.txt', header=None, index=None, mode='a')"
   ]
  },
  {
   "cell_type": "code",
   "execution_count": 46,
   "metadata": {},
   "outputs": [],
   "source": [
    "train_df[['question']].to_csv('../data_files/lcq2_ann_Q_MT_train_23nov_q.en.txt', header=None, index=None, sep='\\t', mode='a')"
   ]
  },
  {
   "cell_type": "code",
   "execution_count": 43,
   "metadata": {},
   "outputs": [],
   "source": [
    "train_df[['annotated_question']].to_csv('../data_files/lcq2_ann_Q_MT_train_23nov.en.txt', header=None, index=None, sep='\\t', mode='a')\n",
    "train_df[['triples_template']].to_csv('../data_files/lcq2_ann_T_MT_train_23nov.sparql.txt', header=None, index=None, sep='\\t', mode='a')"
   ]
  },
  {
   "cell_type": "code",
   "execution_count": 14,
   "metadata": {},
   "outputs": [
    {
     "name": "stdout",
     "output_type": "stream",
     "text": [
      "18287\n"
     ]
    }
   ],
   "source": [
    "print(len(train_df['data']))"
   ]
  },
  {
   "cell_type": "code",
   "execution_count": 12,
   "metadata": {},
   "outputs": [
    {
     "name": "stdout",
     "output_type": "stream",
     "text": [
      "18287\n"
     ]
    }
   ],
   "source": [
    "print(len(train_df[['triples_template']]))"
   ]
  },
  {
   "cell_type": "code",
   "execution_count": 29,
   "metadata": {},
   "outputs": [
    {
     "name": "stdout",
     "output_type": "stream",
     "text": [
      "uid                                                               12992\n",
      "question              \"What is  Hiroshima Prefecture'S borders, that...\n",
      "sparql_wikidata       SELECT ?answer WHERE { wd:Q617375 wdt:P47 ?ans...\n",
      "template_id                                                          21\n",
      "question_pos          WP VBZ NNP NNP POS NNS WDT VBZ NNP NNP IN NN I...\n",
      "ent_masked_ques       \"what is  [Entity1]'s borders, that has [Entit...\n",
      "question_with_pos     / What/WP is/VBZ Hiroshima/NNP Prefecture/NNP'...\n",
      "triples_template      [ hiroshima prefecture ] < shares border with ...\n",
      "annotated_question    [hiroshima prefecture] [tsugumasa muraoka] <sh...\n",
      "entities                      [hiroshima prefecture, tsugumasa muraoka]\n",
      "predLabels                     [shares border with, head of government]\n",
      "con_ques_tpl          [hiroshima prefecture] [tsugumasa muraoka] <sh...\n",
      "ent_pred_present                                                      1\n",
      "Name: 4561, dtype: object\n"
     ]
    }
   ],
   "source": [
    "print(df_mt_train_rev.iloc[3534])"
   ]
  },
  {
   "cell_type": "markdown",
   "metadata": {},
   "source": [
    "### 31st Dec'21: Question length of different types of questions"
   ]
  },
  {
   "cell_type": "code",
   "execution_count": 33,
   "metadata": {},
   "outputs": [],
   "source": [
    "df_mt_test = pd.read_json('../annotatedLabels_25Nov/lcq2_test_annot_25thNov21.json')\n",
    "df_mt_train = pd.read_json('../annotatedLabels_25Nov/lcq2_train_annot_25thNov21.json')"
   ]
  },
  {
   "cell_type": "code",
   "execution_count": 34,
   "metadata": {},
   "outputs": [
    {
     "data": {
      "text/html": [
       "<div>\n",
       "<style scoped>\n",
       "    .dataframe tbody tr th:only-of-type {\n",
       "        vertical-align: middle;\n",
       "    }\n",
       "\n",
       "    .dataframe tbody tr th {\n",
       "        vertical-align: top;\n",
       "    }\n",
       "\n",
       "    .dataframe thead th {\n",
       "        text-align: right;\n",
       "    }\n",
       "</style>\n",
       "<table border=\"1\" class=\"dataframe\">\n",
       "  <thead>\n",
       "    <tr style=\"text-align: right;\">\n",
       "      <th></th>\n",
       "      <th>uid</th>\n",
       "      <th>question</th>\n",
       "      <th>sparql_wikidata</th>\n",
       "      <th>template_id</th>\n",
       "      <th>question_pos</th>\n",
       "      <th>ent_masked_ques</th>\n",
       "      <th>question_with_pos</th>\n",
       "      <th>triples_template</th>\n",
       "      <th>entities</th>\n",
       "      <th>predLabels</th>\n",
       "      <th>annotated_question</th>\n",
       "      <th>newPredLabels</th>\n",
       "      <th>ent_id</th>\n",
       "      <th>new_LabelsEnt</th>\n",
       "    </tr>\n",
       "  </thead>\n",
       "  <tbody>\n",
       "    <tr>\n",
       "      <th>0</th>\n",
       "      <td>20258</td>\n",
       "      <td>Who is the  country for head of state of Mahmo...</td>\n",
       "      <td>select distinct ?sbj where { ?sbj wdt:P35 wd:...</td>\n",
       "      <td>10</td>\n",
       "      <td>WP VBZ DT NN IN NN IN NN IN NNP NNP</td>\n",
       "      <td>who is the  country for head of state of [Enti...</td>\n",
       "      <td>Who/WP is/VBZ the/DT country/NN for/IN head/NN...</td>\n",
       "      <td>subject &lt; head of state &gt; [ mahmoud abbas ] . ...</td>\n",
       "      <td>[mahmoud abbas]</td>\n",
       "      <td>[head of state, instance of]</td>\n",
       "      <td>[mahmoud abbas] &lt;head of state&gt; &lt;instance of&gt; ...</td>\n",
       "      <td>[head of state: P35, instance of: P31]</td>\n",
       "      <td>[Q127998, Q6256]</td>\n",
       "      <td>[mahmoud abbas: Q127998, country: Q6256]</td>\n",
       "    </tr>\n",
       "    <tr>\n",
       "      <th>1</th>\n",
       "      <td>7141</td>\n",
       "      <td>What was the population of Somalia in 2009-0-0?</td>\n",
       "      <td>SELECT ?obj WHERE { wd:Q1045 p:P1082 ?s . ?s p...</td>\n",
       "      <td>7</td>\n",
       "      <td>WP VBD DT NN IN NNP IN CD</td>\n",
       "      <td>what was the population of [Entity1] in 2009-0-0?</td>\n",
       "      <td>What/WP was/VBD the/DT population/NN of/IN Som...</td>\n",
       "      <td>[ somalia ] &lt; population &gt; ?s . ?s &lt; populatio...</td>\n",
       "      <td>[somalia]</td>\n",
       "      <td>[population, point in time]</td>\n",
       "      <td>[somalia] &lt;population&gt; &lt;point in time&gt; What wa...</td>\n",
       "      <td>[population: P1082, point in time: P585]</td>\n",
       "      <td>[Q1045]</td>\n",
       "      <td>[somalia: Q1045]</td>\n",
       "    </tr>\n",
       "  </tbody>\n",
       "</table>\n",
       "</div>"
      ],
      "text/plain": [
       "     uid                                           question  \\\n",
       "0  20258  Who is the  country for head of state of Mahmo...   \n",
       "1   7141    What was the population of Somalia in 2009-0-0?   \n",
       "\n",
       "                                     sparql_wikidata  template_id  \\\n",
       "0   select distinct ?sbj where { ?sbj wdt:P35 wd:...           10   \n",
       "1  SELECT ?obj WHERE { wd:Q1045 p:P1082 ?s . ?s p...            7   \n",
       "\n",
       "                          question_pos  \\\n",
       "0  WP VBZ DT NN IN NN IN NN IN NNP NNP   \n",
       "1            WP VBD DT NN IN NNP IN CD   \n",
       "\n",
       "                                     ent_masked_ques  \\\n",
       "0  who is the  country for head of state of [Enti...   \n",
       "1  what was the population of [Entity1] in 2009-0-0?   \n",
       "\n",
       "                                   question_with_pos  \\\n",
       "0  Who/WP is/VBZ the/DT country/NN for/IN head/NN...   \n",
       "1  What/WP was/VBD the/DT population/NN of/IN Som...   \n",
       "\n",
       "                                    triples_template         entities  \\\n",
       "0  subject < head of state > [ mahmoud abbas ] . ...  [mahmoud abbas]   \n",
       "1  [ somalia ] < population > ?s . ?s < populatio...        [somalia]   \n",
       "\n",
       "                     predLabels  \\\n",
       "0  [head of state, instance of]   \n",
       "1   [population, point in time]   \n",
       "\n",
       "                                  annotated_question  \\\n",
       "0  [mahmoud abbas] <head of state> <instance of> ...   \n",
       "1  [somalia] <population> <point in time> What wa...   \n",
       "\n",
       "                              newPredLabels            ent_id  \\\n",
       "0    [head of state: P35, instance of: P31]  [Q127998, Q6256]   \n",
       "1  [population: P1082, point in time: P585]           [Q1045]   \n",
       "\n",
       "                              new_LabelsEnt  \n",
       "0  [mahmoud abbas: Q127998, country: Q6256]  \n",
       "1                          [somalia: Q1045]  "
      ]
     },
     "execution_count": 34,
     "metadata": {},
     "output_type": "execute_result"
    }
   ],
   "source": [
    "df_mt_test.head(2)"
   ]
  },
  {
   "cell_type": "code",
   "execution_count": 35,
   "metadata": {},
   "outputs": [
    {
     "name": "stdout",
     "output_type": "stream",
     "text": [
      "11\n",
      "10\n"
     ]
    }
   ],
   "source": [
    "df_mt_test['cnt_ques_chr_fr_tmpl'] = df_mt_test.question.apply(lambda x: len(x))\n",
    "print(min(df_mt_test['cnt_ques_chr_fr_tmpl']))\n",
    "df_mt_train['cnt_ques_chr_fr_tmpl'] = df_mt_train.question.apply(lambda x: len(x))\n",
    "print(min(df_mt_train['cnt_ques_chr_fr_tmpl']))"
   ]
  },
  {
   "cell_type": "code",
   "execution_count": 47,
   "metadata": {},
   "outputs": [
    {
     "name": "stdout",
     "output_type": "stream",
     "text": [
      "4906         WHAT IS SCHISM STARTS WITH S\n",
      "434      which annual event starts with t\n",
      "3452     which tagma starts with letter a\n",
      "3950    What FFH habitat starts with \"v\"?\n",
      "5729    which type of value starts with b\n",
      "Name: question, dtype: object\n"
     ]
    }
   ],
   "source": [
    "#string_ques_df, temp_id 1,2,3,4\n",
    "string_ques_test_df = df_mt_test.loc[df_mt_test['template_id'].isin([1,2,3,4])]\n",
    "string_ques_train_df = df_mt_train.loc[df_mt_train['template_id'].isin([1,2,3,4])]\n",
    "string_ques_test_df.sort_values(by=['cnt_ques_chr_fr_tmpl'], inplace=True)\n",
    "string_ques_train_df.sort_values(by=['cnt_ques_chr_fr_tmpl'], inplace=True)\n",
    "print(string_ques_test_df.question.head(5))\n",
    "#print(string_ques_train_df.question.head(5))"
   ]
  },
  {
   "cell_type": "code",
   "execution_count": 46,
   "metadata": {},
   "outputs": [
    {
     "name": "stdout",
     "output_type": "stream",
     "text": [
      "2340            What is it?\n",
      "2747            What is it?\n",
      "4767            What is it?\n",
      "4464           Governmental\n",
      "138     Who wrote Trishira?\n",
      "Name: question, dtype: object\n"
     ]
    }
   ],
   "source": [
    "#two_hop_ques_df, temp_id 18,21,23\n",
    "two_hop_ques_test_df = df_mt_test.loc[df_mt_test['template_id'].isin([18,21,23])]\n",
    "two_hop_ques_train_df = df_mt_train.loc[df_mt_train['template_id'].isin([18,21,23])]\n",
    "two_hop_ques_test_df.sort_values(by=['cnt_ques_chr_fr_tmpl'], inplace=True)\n",
    "two_hop_ques_train_df.sort_values(by=['cnt_ques_chr_fr_tmpl'], inplace=True)\n",
    "print(two_hop_ques_test_df.question.head(5))\n",
    "#print(two_hop_ques_train_df.question.head(15))"
   ]
  },
  {
   "cell_type": "code",
   "execution_count": 48,
   "metadata": {},
   "outputs": [
    {
     "name": "stdout",
     "output_type": "stream",
     "text": [
      "3048        Is Ringo Starr a drummer?\n",
      "2528        Did the Lion make a roar?\n",
      "5403     Is 0.0 the minimum age of G?\n",
      "4053     Is Deepika Padukone a model?\n",
      "1781    Does 0 mean the same as zero?\n",
      "Name: question, dtype: object\n"
     ]
    }
   ],
   "source": [
    "#boolean_df, temp_id 15,16,17\n",
    "bool_test_df = df_mt_test.loc[df_mt_test['template_id'].isin([15,16,17])]\n",
    "bool_train_df = df_mt_train.loc[df_mt_train['template_id'].isin([15,16,17])]\n",
    "bool_test_df.sort_values(by=['cnt_ques_chr_fr_tmpl'], inplace=True)\n",
    "bool_train_df.sort_values(by=['cnt_ques_chr_fr_tmpl'], inplace=True)\n",
    "print(bool_test_df.question.head(5))\n",
    "#print(bool_train_df.question.head(15))"
   ]
  },
  {
   "cell_type": "code",
   "execution_count": 49,
   "metadata": {},
   "outputs": [
    {
     "name": "stdout",
     "output_type": "stream",
     "text": [
      "282          When did Pausanias die?\n",
      "3820        What is Ruby in English?\n",
      "5539       When did Philopoemen die?\n",
      "1924     When beer started in Egypt?\n",
      "1273    What is Madonna's real name?\n",
      "Name: question, dtype: object\n"
     ]
    }
   ],
   "source": [
    "#qual_df, temp_id 6,7\n",
    "qual_test_df = df_mt_test.loc[df_mt_test['template_id'].isin([6,7])]\n",
    "qual_train_df = df_mt_train.loc[df_mt_train['template_id'].isin([6,7])]\n",
    "qual_test_df.sort_values(by=['cnt_ques_chr_fr_tmpl'], inplace=True)\n",
    "qual_train_df.sort_values(by=['cnt_ques_chr_fr_tmpl'], inplace=True)\n",
    "print(qual_test_df.question.head(5))\n",
    "#print(qual_train_df.question.head(15))"
   ]
  },
  {
   "cell_type": "code",
   "execution_count": 50,
   "metadata": {},
   "outputs": [
    {
     "name": "stdout",
     "output_type": "stream",
     "text": [
      "4154        What is another name for sex?\n",
      "5004      When was Sandra Bernhardt born?\n",
      "1174     Which was the student of Cicero?\n",
      "1601     Where did Joseph Goebbels study?\n",
      "5042    When did John Ruskin get married?\n",
      "Name: question, dtype: object\n"
     ]
    }
   ],
   "source": [
    "#two_int_ques_df tmp_id 8,9,24\n",
    "two_int_test_df = df_mt_test.loc[df_mt_test['template_id'].isin([8,9,24])]\n",
    "two_int_train_df = df_mt_train.loc[df_mt_train['template_id'].isin([8,9,24])]\n",
    "two_int_test_df.sort_values(by=['cnt_ques_chr_fr_tmpl'], inplace=True)\n",
    "two_int_train_df.sort_values(by=['cnt_ques_chr_fr_tmpl'], inplace=True)\n",
    "print(two_int_test_df.question.head(5))\n",
    "#print(two_int_train_df.question.head(15))"
   ]
  },
  {
   "cell_type": "code",
   "execution_count": null,
   "metadata": {},
   "outputs": [],
   "source": [
    "#i.e. shortest 2 int ques - \"Who was Poseidon mother and child?\""
   ]
  }
 ],
 "metadata": {
  "kernelspec": {
   "display_name": "Python 3",
   "language": "python",
   "name": "python3"
  },
  "language_info": {
   "codemirror_mode": {
    "name": "ipython",
    "version": 3
   },
   "file_extension": ".py",
   "mimetype": "text/x-python",
   "name": "python",
   "nbconvert_exporter": "python",
   "pygments_lexer": "ipython3",
   "version": "3.7.3"
  }
 },
 "nbformat": 4,
 "nbformat_minor": 5
}
